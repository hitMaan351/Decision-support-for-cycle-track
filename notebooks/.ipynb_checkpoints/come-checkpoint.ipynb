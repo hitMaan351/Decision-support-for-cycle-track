{
 "cells": [
  {
   "cell_type": "markdown",
   "metadata": {},
   "source": [
    "# Import Librairies"
   ]
  },
  {
   "cell_type": "code",
   "execution_count": 1,
   "metadata": {},
   "outputs": [],
   "source": [
    "import json\n",
    "import geopandas as gpd\n",
    "import pandas as pd\n",
    "from shapely.geometry import Point"
   ]
  },
  {
   "cell_type": "code",
   "execution_count": 2,
   "metadata": {},
   "outputs": [],
   "source": [
    "pd.set_option('display.max_columns', None)"
   ]
  },
  {
   "cell_type": "markdown",
   "metadata": {},
   "source": [
    "# Ouverture du fichier voies cyclables"
   ]
  },
  {
   "cell_type": "code",
   "execution_count": 3,
   "metadata": {},
   "outputs": [
    {
     "name": "stdout",
     "output_type": "stream",
     "text": [
      "FeatureCollection\n"
     ]
    }
   ],
   "source": [
    "# Ouvrez le fichier\n",
    "with open('geojson/france.geojson', 'r') as f:\n",
    "  # Lisez le contenu du fichier\n",
    "  geojson = f.read()\n",
    "\n",
    "# Chargez les données du fichier GeoJSON en tant qu'objet Python\n",
    "data = json.loads(geojson)\n",
    "\n",
    "# Vous pouvez maintenant travailler avec les données GeoJSON en utilisant l'objet Python\n",
    "print(data['type'])  # Affiche \"FeatureCollection\""
   ]
  },
  {
   "cell_type": "code",
   "execution_count": null,
   "metadata": {},
   "outputs": [],
   "source": [
    "# Lisez le fichier GeoJSON en utilisant geopandas\n",
    "data_gpd = gpd.read_file('geojson/france.geojson')\n",
    "data_gpd"
   ]
  },
  {
   "cell_type": "markdown",
   "metadata": {},
   "source": [
    "# Suppression de colonnes"
   ]
  },
  {
   "cell_type": "code",
   "execution_count": null,
   "metadata": {},
   "outputs": [],
   "source": [
    "df_voie = data_gpd.copy()\n",
    "df_voie = df_voie.drop(columns = ['reseau_loc','num_iti','nom_loc','date_maj','comm','source','project_c','ref_geo'])\n",
    "df_voie"
   ]
  },
  {
   "cell_type": "code",
   "execution_count": null,
   "metadata": {},
   "outputs": [],
   "source": [
    "data_gpd['ame_g'].value_counts()"
   ]
  },
  {
   "cell_type": "code",
   "execution_count": null,
   "metadata": {},
   "outputs": [],
   "source": [
    "#on supprime les voies qui ne sont pas des pistes cycables\n",
    "\n",
    "# Creating the condition \n",
    "condition_1 = ((df_voie['ame_g'].str.contains(\"AUCUN\")) |\n",
    "            (df_voie['ame_g'].str.contains(\"AUTRE\")) |\n",
    "            (df_voie['ame_g'].str.contains(\"GOULOTTE\")))\n",
    "condition_2 = ((df_voie['ame_d'].str.contains(\"AUCUN\")) |\n",
    "            (df_voie['ame_d'].str.contains(\"AUTRE\")) |\n",
    "            (df_voie['ame_d'].str.contains(\"GOULOTTE\")))\n",
    "\n",
    "# using the condition to filter the rows\n",
    "df_voie = df_voie[~(condition_1&condition_2)]\n",
    "df_voie"
   ]
  },
  {
   "cell_type": "markdown",
   "metadata": {},
   "source": [
    "# Ouverture du fichier accidents vélo"
   ]
  },
  {
   "cell_type": "code",
   "execution_count": null,
   "metadata": {},
   "outputs": [],
   "source": [
    "data_acc_velo = pd.read_csv('row_dataset_accidents_velo.csv',sep=',')\n",
    "data_acc_velo"
   ]
  },
  {
   "cell_type": "code",
   "execution_count": null,
   "metadata": {},
   "outputs": [],
   "source": [
    "df_accident = data_acc_velo.copy()\n",
    "df_accident = df_accident.drop(columns=['id_vehicule','num_veh','occutc','com'])"
   ]
  },
  {
   "cell_type": "code",
   "execution_count": null,
   "metadata": {},
   "outputs": [],
   "source": [
    "df_accident = df_accident.rename(columns={\"long\": \"longitude\"})"
   ]
  },
  {
   "cell_type": "code",
   "execution_count": null,
   "metadata": {},
   "outputs": [],
   "source": [
    "df_accident[\"longitude\"]=df_accident[\"longitude\"].str.replace(',','.')\n",
    "df_accident['longitude'] = df_accident['longitude'].astype(float)\n",
    "\n",
    "df_accident[\"lat\"]=df_accident[\"lat\"].str.replace(',','.')\n",
    "df_accident['lat'] = df_accident['lat'].astype(float)\n",
    "\n",
    "df_accident['longitude'].head()"
   ]
  },
  {
   "cell_type": "code",
   "execution_count": null,
   "metadata": {},
   "outputs": [],
   "source": [
    "from shapely.geometry import MultiLineString"
   ]
  },
  {
   "cell_type": "markdown",
   "metadata": {},
   "source": [
    "# Transformation en Geodataframe"
   ]
  },
  {
   "cell_type": "code",
   "execution_count": null,
   "metadata": {},
   "outputs": [],
   "source": [
    "df_accident['geometry'] = df_accident.apply(lambda x: Point(x['longitude'], x['lat']), axis=1)\n",
    "gdf_accident = gpd.GeoDataFrame(df_accident, geometry='geometry')\n",
    "gdf_accident = gdf_accident[(gdf_accident['longitude']>2.26)&(gdf_accident['longitude']<2.4)]\n",
    "gdf_accident = gdf_accident[(gdf_accident['lat']>48.8)&(gdf_accident['lat']<48.9)]\n",
    "\n",
    "gdf_accident.shape\n"
   ]
  },
  {
   "cell_type": "code",
   "execution_count": null,
   "metadata": {},
   "outputs": [],
   "source": [
    "gdf_voie = gpd.GeoDataFrame(df_voie, geometry='geometry')\n",
    "gdf_voie.head(1)\n"
   ]
  },
  {
   "cell_type": "markdown",
   "metadata": {},
   "source": [
    "### On crée des range de coordonnées pour la zone de Paris"
   ]
  },
  {
   "cell_type": "code",
   "execution_count": null,
   "metadata": {},
   "outputs": [],
   "source": [
    "\n",
    "coordonnes = [[2.26,48.8],[2.29,48.81],[2.31,48.82],[2.34,48.83],[2.365,48.85],[2.383,48.89],[2.4,48.9]]\n",
    "\n"
   ]
  },
  {
   "cell_type": "markdown",
   "metadata": {},
   "source": [
    "### On filtre les deux dataframe pour chaque range de longitude et latitude"
   ]
  },
  {
   "cell_type": "code",
   "execution_count": null,
   "metadata": {},
   "outputs": [],
   "source": [
    "gdf_accident_test = gdf_accident.copy()\n",
    "liste_df = []\n",
    "\n",
    "for i in range (len(coordonnes)-1) :\n",
    "    gdf_accident_new = gdf_accident_test[(gdf_accident_test['longitude']>coordonnes[i][0])&(gdf_accident_test['longitude']<coordonnes[i+1][0])]\n",
    "    gdf_accident_new = gdf_accident_new[(gdf_accident_new['lat']>coordonnes[i][1])&(gdf_accident_new['lat']<coordonnes[i+1][1])]\n",
    "    liste_df.append(gdf_accident_new)\n",
    "    \n",
    "for i in range(len(liste_df)):\n",
    "    print(liste_df[i].shape)\n",
    "\n",
    "\n",
    "#gdf_accident_test.loc[0,'geometry'] = Point(2.0590, 49.0589)\n",
    "#gdf_accident_test.loc[1,'geometry'] = Point(7.30, 47)\n",
    "#gdf_accident_test.loc[2,'geometry'] = Point(3.21, 50)\n",
    "#gdf_accident_test.loc[3,'geometry'] = Point(1.91, 47.89)\n",
    "#gdf_accident_test.loc[4,'geometry'] = Point(-2.25, 46.99)\n",
    "#gdf_accident_test.loc[5,'geometry'] = Point(3.07, 50.61)\n",
    "\n",
    "\n"
   ]
  },
  {
   "cell_type": "code",
   "execution_count": null,
   "metadata": {},
   "outputs": [],
   "source": [
    "gdf_voie.geometry.set_crs('EPSG:4326', inplace=True)\n",
    "for i in range(len(liste_df)):\n",
    "    liste_df[i].geometry.set_crs('EPSG:4326', inplace=True) "
   ]
  },
  {
   "cell_type": "code",
   "execution_count": null,
   "metadata": {},
   "outputs": [],
   "source": [
    "gdf_voie_test = gdf_voie.copy()\n"
   ]
  },
  {
   "cell_type": "code",
   "execution_count": null,
   "metadata": {},
   "outputs": [],
   "source": [
    "gdf_voie_test['geometry'] = gdf_voie_test['geometry'].apply(lambda x: x.geoms[0])"
   ]
  },
  {
   "cell_type": "code",
   "execution_count": null,
   "metadata": {},
   "outputs": [],
   "source": [
    "def filter_dataframe(df, min_lat, max_lat, min_lon, max_lon):\n",
    "    # filtrer les lignes qui ont des coordonnées géographiques dans les limites données\n",
    "    filtered_df = df[(df['geometry'].apply(lambda x: x.coords[0][1]) >= min_lat) & \n",
    "                    (df['geometry'].apply(lambda x: x.coords[0][1]) <= max_lat) & \n",
    "                    (df['geometry'].apply(lambda x: x.coords[0][0]) >= min_lon) & \n",
    "                    (df['geometry'].apply(lambda x: x.coords[0][0]) <= max_lon)]\n",
    "    return filtered_df"
   ]
  },
  {
   "cell_type": "code",
   "execution_count": null,
   "metadata": {},
   "outputs": [],
   "source": [
    "liste_df_voie = []\n",
    "\n",
    "for i in range(len(coordonnes)-1):\n",
    "    print(coordonnes[i][0],coordonnes[i+1][0],coordonnes[i][1],coordonnes[i+1][1])\n",
    "    gdf_filtered =filter_dataframe(gdf_voie_test,coordonnes[i][1],coordonnes[i+1][1],coordonnes[i][0],coordonnes[i+1][0])\n",
    "    liste_df_voie.append(gdf_filtered)\n",
    "\n"
   ]
  },
  {
   "cell_type": "code",
   "execution_count": null,
   "metadata": {},
   "outputs": [],
   "source": [
    "for i in range(len(liste_df_voie)):\n",
    "    print(liste_df_voie[i].shape)"
   ]
  },
  {
   "cell_type": "code",
   "execution_count": null,
   "metadata": {},
   "outputs": [],
   "source": [
    "for i in range(len(liste_df_voie)):\n",
    "    liste_df_voie[i] = liste_df_voie[i].to_crs(epsg=2154)\n",
    "    lie_df[i] = liste_df[i].to_crs(epsg=2154)"
   ]
  },
  {
   "cell_type": "markdown",
   "metadata": {},
   "source": [
    "# Calcul des distances pour chaque point et linestring"
   ]
  },
  {
   "cell_type": "code",
   "execution_count": null,
   "metadata": {},
   "outputs": [],
   "source": [
    "for j in range(len(liste_df_voie)):\n",
    "    print(j)\n",
    "    for i, point in liste_df[j].iterrows():\n",
    "        liste_df[j].at[i,\"distance\"] = liste_df_voie[j].distance(point.geometry).min()\n",
    "            "
   ]
  },
  {
   "cell_type": "code",
   "execution_count": null,
   "metadata": {},
   "outputs": [],
   "source": [
    "for i, point in liste_df[0].iterrows():\n",
    "    liste_df[0].at[i,\"distance\"] = liste_df_voie[0].distance(point.geometry).min()\n",
    "    liste_df[0].at[i,\"nearest_road\"] = liste_df_voie[0].distance(point.geometry).idxmin()\n",
    "\n",
    "liste_df[0][\"nearest_road\"] = liste_df[0][\"nearest_road\"].astype('int')\n",
    "liste_df[0]\n",
    "    \n"
   ]
  },
  {
   "cell_type": "code",
   "execution_count": null,
   "metadata": {},
   "outputs": [],
   "source": [
    "liste_merged = []\n",
    "liste_merged.append((liste_df[0].merge(liste_df_voie[0], left_on='nearest_road', right_index=True)))\n",
    "\n",
    "liste_merged[0]\n"
   ]
  },
  {
   "cell_type": "code",
   "execution_count": null,
   "metadata": {},
   "outputs": [],
   "source": [
    "for i, point in liste_df[1].iterrows():\n",
    "    liste_df[1].at[i,\"distance\"] = liste_df_voie[1].distance(point.geometry).min()\n",
    "    liste_df[1].at[i,\"nearest_road\"] = liste_df_voie[1].distance(point.geometry).idxmin()\n",
    "\n",
    "liste_df[1][\"nearest_road\"] = liste_df[1][\"nearest_road\"].astype('int')\n",
    "\n",
    "liste_merged.append((liste_df[1].merge(liste_df_voie[1], left_on='nearest_road', right_index=True)))\n",
    "\n",
    "liste_merged[1]"
   ]
  },
  {
   "cell_type": "code",
   "execution_count": null,
   "metadata": {},
   "outputs": [],
   "source": [
    "for i, point in liste_df[2].iterrows():\n",
    "    liste_df[2].at[i,\"distance\"] = liste_df_voie[2].distance(point.geometry).min()\n",
    "    liste_df[2].at[i,\"nearest_road\"] = liste_df_voie[2].distance(point.geometry).idxmin()\n",
    "\n",
    "liste_df[2][\"nearest_road\"] = liste_df[2][\"nearest_road\"].astype('int')\n",
    "\n",
    "liste_merged.append((liste_df[2].merge(liste_df_voie[2], left_on='nearest_road', right_index=True)))\n",
    "\n",
    "liste_merged[2]"
   ]
  },
  {
   "cell_type": "code",
   "execution_count": null,
   "metadata": {},
   "outputs": [],
   "source": [
    "for i, point in liste_df[3].iterrows():\n",
    "    liste_df[3].at[i,\"distance\"] = liste_df_voie[3].distance(point.geometry).min()\n",
    "    liste_df[3].at[i,\"nearest_road\"] = liste_df_voie[3].distance(point.geometry).idxmin()\n",
    "\n",
    "liste_df[3][\"nearest_road\"] = liste_df[3][\"nearest_road\"].astype('int')\n",
    "\n",
    "liste_merged.append((liste_df[3].merge(liste_df_voie[3], left_on='nearest_road', right_index=True)))\n",
    "\n",
    "liste_merged[3]"
   ]
  },
  {
   "cell_type": "code",
   "execution_count": null,
   "metadata": {},
   "outputs": [],
   "source": [
    "for i, point in liste_df[4].iterrows():\n",
    "    liste_df[4].at[i,\"distance\"] = liste_df_voie[4].distance(point.geometry).min()\n",
    "    liste_df[4].at[i,\"nearest_road\"] = liste_df_voie[4].distance(point.geometry).idxmin()\n",
    "\n",
    "liste_df[4][\"nearest_road\"] = liste_df[4][\"nearest_road\"].astype('int')\n",
    "\n",
    "liste_merged.append((liste_df[4].merge(liste_df_voie[4], left_on='nearest_road', right_index=True)))\n",
    "\n",
    "liste_merged[4]"
   ]
  },
  {
   "cell_type": "code",
   "execution_count": null,
   "metadata": {},
   "outputs": [],
   "source": [
    "for i, point in liste_df[5].iterrows():\n",
    "    liste_df[5].at[i,\"distance\"] = liste_df_voie[5].distance(point.geometry).min()\n",
    "    liste_df[5].at[i,\"nearest_road\"] = liste_df_voie[5].distance(point.geometry).idxmin()\n",
    "\n",
    "liste_df[5][\"nearest_road\"] = liste_df[5][\"nearest_road\"].astype('int')\n",
    "\n",
    "liste_merged.append((liste_df[5].merge(liste_df_voie[5], left_on='nearest_road', right_index=True)))\n",
    "\n",
    "len(liste_merged)"
   ]
  },
  {
   "cell_type": "code",
   "execution_count": null,
   "metadata": {},
   "outputs": [],
   "source": [
    "liste_merged[5]"
   ]
  },
  {
   "cell_type": "markdown",
   "metadata": {},
   "source": [
    "## On merge tous les datasets"
   ]
  },
  {
   "cell_type": "code",
   "execution_count": null,
   "metadata": {},
   "outputs": [],
   "source": [
    "final_df_merged = pd.concat([liste_merged[0],liste_merged[1],liste_merged[2],liste_merged[3],liste_merged[4],liste_merged[5]])\n",
    "final_df_merged\n",
    "\n",
    "\n"
   ]
  },
  {
   "cell_type": "code",
   "execution_count": null,
   "metadata": {},
   "outputs": [],
   "source": [
    "final_df_merged['count_accidents'] = 1\n",
    "final_df_merged"
   ]
  },
  {
   "cell_type": "code",
   "execution_count": null,
   "metadata": {},
   "outputs": [],
   "source": [
    "final_df_merged_grouped = final_df_merged.groupby(['nearest_road'])['count_accidents'].sum().reset_index()\n",
    "final_df_merged_grouped"
   ]
  },
  {
   "cell_type": "code",
   "execution_count": null,
   "metadata": {},
   "outputs": [],
   "source": []
  }
 ],
 "metadata": {
  "kernelspec": {
   "display_name": "Python 3",
   "language": "python",
   "name": "python3"
  },
  "language_info": {
   "codemirror_mode": {
    "name": "ipython",
    "version": 3
   },
   "file_extension": ".py",
   "mimetype": "text/x-python",
   "name": "python",
   "nbconvert_exporter": "python",
   "pygments_lexer": "ipython3",
   "version": "3.8.5"
  }
 },
 "nbformat": 4,
 "nbformat_minor": 4
}
