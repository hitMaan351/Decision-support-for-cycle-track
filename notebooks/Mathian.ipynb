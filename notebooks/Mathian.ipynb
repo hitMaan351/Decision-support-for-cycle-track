{
  "nbformat": 4,
  "nbformat_minor": 0,
  "metadata": {
    "colab": {
      "provenance": []
    },
    "kernelspec": {
      "name": "python3",
      "display_name": "Python 3"
    },
    "language_info": {
      "name": "python"
    }
  },
  "cells": [
    {
      "cell_type": "markdown",
      "source": [
        "#Projet Vélo\n",
        "\n",
        "### Énoncé :\n",
        "https://latitudes.notion.site/Pr-sentation-des-projets-de-l-Open-Data-University-5abab2bb9a6e453d817fe6bdf3806413"
      ],
      "metadata": {
        "id": "Q1aCNJ1n1UEo"
      }
    },
    {
      "cell_type": "markdown",
      "source": [
        "### Config"
      ],
      "metadata": {
        "id": "S_MZLvCm_7Pg"
      }
    },
    {
      "cell_type": "code",
      "source": [
        "from google.colab import drive\n",
        "drive.mount('/content/drive')"
      ],
      "metadata": {
        "id": "D5nX6mpcDWQL",
        "colab": {
          "base_uri": "https://localhost:8080/"
        },
        "outputId": "a6521598-1cf8-48e6-c844-654c836b1867"
      },
      "execution_count": null,
      "outputs": [
        {
          "output_type": "stream",
          "name": "stdout",
          "text": [
            "Mounted at /content/drive\n"
          ]
        }
      ]
    },
    {
      "cell_type": "code",
      "source": [
        "!pip install geojson\n",
        "import geojson\n",
        "import pandas as pd\n",
        "\n",
        "# A modifier pour retrouver les fichiers\n",
        "files_path = '/content/drive/MyDrive/Challenge_IA_Velo/' "
      ],
      "metadata": {
        "id": "k-xThTtDG2li",
        "colab": {
          "base_uri": "https://localhost:8080/"
        },
        "outputId": "cf306508-146e-43e2-dfd4-924b900f02ee"
      },
      "execution_count": null,
      "outputs": [
        {
          "output_type": "stream",
          "name": "stdout",
          "text": [
            "Looking in indexes: https://pypi.org/simple, https://us-python.pkg.dev/colab-wheels/public/simple/\n",
            "Collecting geojson\n",
            "  Downloading geojson-2.5.0-py2.py3-none-any.whl (14 kB)\n",
            "Installing collected packages: geojson\n",
            "Successfully installed geojson-2.5.0\n"
          ]
        }
      ]
    },
    {
      "cell_type": "markdown",
      "source": [
        "## Creation of accident dataframe"
      ],
      "metadata": {
        "id": "xUOIHI1cAA6T"
      }
    },
    {
      "cell_type": "code",
      "source": [
        "# Charger le fichier GeoJSON\n",
        "with open(files_path + 'Data/france-20230101.geojson', 'r') as f:\n",
        "    data = geojson.load(f)"
      ],
      "metadata": {
        "id": "sQBnRYTwHDzS"
      },
      "execution_count": null,
      "outputs": []
    },
    {
      "cell_type": "code",
      "execution_count": null,
      "metadata": {
        "colab": {
          "base_uri": "https://localhost:8080/"
        },
        "id": "SrK-cw4mS0Bk",
        "outputId": "28b61c6f-aee9-4cdb-f898-9f90b5c524a1"
      },
      "outputs": [
        {
          "output_type": "stream",
          "name": "stdout",
          "text": [
            "[[0.005851, 47.086212], [0.00575, 47.086436], [0.005647, 47.086569]]\n",
            "[[0.024023, 44.529839], [0.024091, 44.529895]]\n",
            "[[0.047086, 43.220046], [0.046962, 43.220395]]\n"
          ]
        }
      ],
      "source": [
        "# Imprimer les coordonnées ( > 2 minutes pour tout afficher et j'ai pas capté ce que c'était)\n",
        "k = 0\n",
        "for feature in data['features']:\n",
        "    k+=1\n",
        "    print(feature['geometry']['coordinates'])\n",
        "    # Affiches longitudes et latitude correspondant à des villes en France\n",
        "    if k == 3 :\n",
        "      break"
      ]
    },
    {
      "cell_type": "code",
      "source": [
        "vehicule_2021 = pd.read_csv(files_path + 'Data/vehicules-2021.csv', sep = \";\")\n",
        "vehicule_2020 = pd.read_csv(files_path + 'Data/vehicules-2020.csv', sep = \";\")\n",
        "vehicule_2019 = pd.read_csv(files_path + 'Data/vehicules-2019.csv', sep = \";\")\n",
        "vehicule_2018 = pd.read_csv(files_path + 'Data/vehicules-2018.csv', sep = \",\")\n",
        "\n",
        "lst = [vehicule_2018, vehicule_2019, vehicule_2020, vehicule_2021]  \n",
        "vehicule_df= pd.concat(lst, axis =0)\n",
        "\n",
        "vehicule_df.head()\n",
        "print(vehicule_df.shape)\n",
        "print(vehicule_2018.shape)"
      ],
      "metadata": {
        "colab": {
          "base_uri": "https://localhost:8080/"
        },
        "id": "eXUb24OHWd_A",
        "outputId": "ee3d291d-2b31-4844-dbf4-bcfe5f6b2e3b"
      },
      "execution_count": null,
      "outputs": [
        {
          "output_type": "stream",
          "name": "stdout",
          "text": [
            "(377967, 11)\n",
            "(98876, 9)\n"
          ]
        }
      ]
    },
    {
      "cell_type": "code",
      "source": [
        "velo_df = vehicule_df.loc[vehicule_df[\"catv\"] == 1]\n",
        "velo_df.head()"
      ],
      "metadata": {
        "id": "pp78YZyJAcGA",
        "colab": {
          "base_uri": "https://localhost:8080/",
          "height": 204
        },
        "outputId": "7d204100-e6a9-4a79-e0ec-5eac02b913da"
      },
      "execution_count": null,
      "outputs": [
        {
          "output_type": "execute_result",
          "data": {
            "text/plain": [
              "         Num_Acc  senc  catv  occutc   obs  obsm  choc  manv num_veh  \\\n",
              "6   201800000004   0.0     1     0.0   0.0   2.0   8.0   0.0     B01   \n",
              "30  201800000020   2.0     1     0.0  12.0   0.0   7.0   1.0     B01   \n",
              "71  201800000044   1.0     1     0.0   0.0   0.0   8.0   2.0     A01   \n",
              "81  201800000051   1.0     1     0.0   0.0   0.0   4.0   2.0     B01   \n",
              "91  201800000056   2.0     1     0.0   0.0   2.0   6.0   2.0     B01   \n",
              "\n",
              "   id_vehicule  motor  \n",
              "6          NaN    NaN  \n",
              "30         NaN    NaN  \n",
              "71         NaN    NaN  \n",
              "81         NaN    NaN  \n",
              "91         NaN    NaN  "
            ],
            "text/html": [
              "\n",
              "  <div id=\"df-b9944271-9d09-4ade-abe0-61a5e4069311\">\n",
              "    <div class=\"colab-df-container\">\n",
              "      <div>\n",
              "<style scoped>\n",
              "    .dataframe tbody tr th:only-of-type {\n",
              "        vertical-align: middle;\n",
              "    }\n",
              "\n",
              "    .dataframe tbody tr th {\n",
              "        vertical-align: top;\n",
              "    }\n",
              "\n",
              "    .dataframe thead th {\n",
              "        text-align: right;\n",
              "    }\n",
              "</style>\n",
              "<table border=\"1\" class=\"dataframe\">\n",
              "  <thead>\n",
              "    <tr style=\"text-align: right;\">\n",
              "      <th></th>\n",
              "      <th>Num_Acc</th>\n",
              "      <th>senc</th>\n",
              "      <th>catv</th>\n",
              "      <th>occutc</th>\n",
              "      <th>obs</th>\n",
              "      <th>obsm</th>\n",
              "      <th>choc</th>\n",
              "      <th>manv</th>\n",
              "      <th>num_veh</th>\n",
              "      <th>id_vehicule</th>\n",
              "      <th>motor</th>\n",
              "    </tr>\n",
              "  </thead>\n",
              "  <tbody>\n",
              "    <tr>\n",
              "      <th>6</th>\n",
              "      <td>201800000004</td>\n",
              "      <td>0.0</td>\n",
              "      <td>1</td>\n",
              "      <td>0.0</td>\n",
              "      <td>0.0</td>\n",
              "      <td>2.0</td>\n",
              "      <td>8.0</td>\n",
              "      <td>0.0</td>\n",
              "      <td>B01</td>\n",
              "      <td>NaN</td>\n",
              "      <td>NaN</td>\n",
              "    </tr>\n",
              "    <tr>\n",
              "      <th>30</th>\n",
              "      <td>201800000020</td>\n",
              "      <td>2.0</td>\n",
              "      <td>1</td>\n",
              "      <td>0.0</td>\n",
              "      <td>12.0</td>\n",
              "      <td>0.0</td>\n",
              "      <td>7.0</td>\n",
              "      <td>1.0</td>\n",
              "      <td>B01</td>\n",
              "      <td>NaN</td>\n",
              "      <td>NaN</td>\n",
              "    </tr>\n",
              "    <tr>\n",
              "      <th>71</th>\n",
              "      <td>201800000044</td>\n",
              "      <td>1.0</td>\n",
              "      <td>1</td>\n",
              "      <td>0.0</td>\n",
              "      <td>0.0</td>\n",
              "      <td>0.0</td>\n",
              "      <td>8.0</td>\n",
              "      <td>2.0</td>\n",
              "      <td>A01</td>\n",
              "      <td>NaN</td>\n",
              "      <td>NaN</td>\n",
              "    </tr>\n",
              "    <tr>\n",
              "      <th>81</th>\n",
              "      <td>201800000051</td>\n",
              "      <td>1.0</td>\n",
              "      <td>1</td>\n",
              "      <td>0.0</td>\n",
              "      <td>0.0</td>\n",
              "      <td>0.0</td>\n",
              "      <td>4.0</td>\n",
              "      <td>2.0</td>\n",
              "      <td>B01</td>\n",
              "      <td>NaN</td>\n",
              "      <td>NaN</td>\n",
              "    </tr>\n",
              "    <tr>\n",
              "      <th>91</th>\n",
              "      <td>201800000056</td>\n",
              "      <td>2.0</td>\n",
              "      <td>1</td>\n",
              "      <td>0.0</td>\n",
              "      <td>0.0</td>\n",
              "      <td>2.0</td>\n",
              "      <td>6.0</td>\n",
              "      <td>2.0</td>\n",
              "      <td>B01</td>\n",
              "      <td>NaN</td>\n",
              "      <td>NaN</td>\n",
              "    </tr>\n",
              "  </tbody>\n",
              "</table>\n",
              "</div>\n",
              "      <button class=\"colab-df-convert\" onclick=\"convertToInteractive('df-b9944271-9d09-4ade-abe0-61a5e4069311')\"\n",
              "              title=\"Convert this dataframe to an interactive table.\"\n",
              "              style=\"display:none;\">\n",
              "        \n",
              "  <svg xmlns=\"http://www.w3.org/2000/svg\" height=\"24px\"viewBox=\"0 0 24 24\"\n",
              "       width=\"24px\">\n",
              "    <path d=\"M0 0h24v24H0V0z\" fill=\"none\"/>\n",
              "    <path d=\"M18.56 5.44l.94 2.06.94-2.06 2.06-.94-2.06-.94-.94-2.06-.94 2.06-2.06.94zm-11 1L8.5 8.5l.94-2.06 2.06-.94-2.06-.94L8.5 2.5l-.94 2.06-2.06.94zm10 10l.94 2.06.94-2.06 2.06-.94-2.06-.94-.94-2.06-.94 2.06-2.06.94z\"/><path d=\"M17.41 7.96l-1.37-1.37c-.4-.4-.92-.59-1.43-.59-.52 0-1.04.2-1.43.59L10.3 9.45l-7.72 7.72c-.78.78-.78 2.05 0 2.83L4 21.41c.39.39.9.59 1.41.59.51 0 1.02-.2 1.41-.59l7.78-7.78 2.81-2.81c.8-.78.8-2.07 0-2.86zM5.41 20L4 18.59l7.72-7.72 1.47 1.35L5.41 20z\"/>\n",
              "  </svg>\n",
              "      </button>\n",
              "      \n",
              "  <style>\n",
              "    .colab-df-container {\n",
              "      display:flex;\n",
              "      flex-wrap:wrap;\n",
              "      gap: 12px;\n",
              "    }\n",
              "\n",
              "    .colab-df-convert {\n",
              "      background-color: #E8F0FE;\n",
              "      border: none;\n",
              "      border-radius: 50%;\n",
              "      cursor: pointer;\n",
              "      display: none;\n",
              "      fill: #1967D2;\n",
              "      height: 32px;\n",
              "      padding: 0 0 0 0;\n",
              "      width: 32px;\n",
              "    }\n",
              "\n",
              "    .colab-df-convert:hover {\n",
              "      background-color: #E2EBFA;\n",
              "      box-shadow: 0px 1px 2px rgba(60, 64, 67, 0.3), 0px 1px 3px 1px rgba(60, 64, 67, 0.15);\n",
              "      fill: #174EA6;\n",
              "    }\n",
              "\n",
              "    [theme=dark] .colab-df-convert {\n",
              "      background-color: #3B4455;\n",
              "      fill: #D2E3FC;\n",
              "    }\n",
              "\n",
              "    [theme=dark] .colab-df-convert:hover {\n",
              "      background-color: #434B5C;\n",
              "      box-shadow: 0px 1px 3px 1px rgba(0, 0, 0, 0.15);\n",
              "      filter: drop-shadow(0px 1px 2px rgba(0, 0, 0, 0.3));\n",
              "      fill: #FFFFFF;\n",
              "    }\n",
              "  </style>\n",
              "\n",
              "      <script>\n",
              "        const buttonEl =\n",
              "          document.querySelector('#df-b9944271-9d09-4ade-abe0-61a5e4069311 button.colab-df-convert');\n",
              "        buttonEl.style.display =\n",
              "          google.colab.kernel.accessAllowed ? 'block' : 'none';\n",
              "\n",
              "        async function convertToInteractive(key) {\n",
              "          const element = document.querySelector('#df-b9944271-9d09-4ade-abe0-61a5e4069311');\n",
              "          const dataTable =\n",
              "            await google.colab.kernel.invokeFunction('convertToInteractive',\n",
              "                                                     [key], {});\n",
              "          if (!dataTable) return;\n",
              "\n",
              "          const docLinkHtml = 'Like what you see? Visit the ' +\n",
              "            '<a target=\"_blank\" href=https://colab.research.google.com/notebooks/data_table.ipynb>data table notebook</a>'\n",
              "            + ' to learn more about interactive tables.';\n",
              "          element.innerHTML = '';\n",
              "          dataTable['output_type'] = 'display_data';\n",
              "          await google.colab.output.renderOutput(dataTable, element);\n",
              "          const docLink = document.createElement('div');\n",
              "          docLink.innerHTML = docLinkHtml;\n",
              "          element.appendChild(docLink);\n",
              "        }\n",
              "      </script>\n",
              "    </div>\n",
              "  </div>\n",
              "  "
            ]
          },
          "metadata": {},
          "execution_count": 7
        }
      ]
    },
    {
      "cell_type": "code",
      "source": [
        "len(velo_df)"
      ],
      "metadata": {
        "colab": {
          "base_uri": "https://localhost:8080/"
        },
        "id": "rVNdS2VZE_Xq",
        "outputId": "8589decb-9df6-4d51-a593-c3a7d95f2ef4"
      },
      "execution_count": null,
      "outputs": [
        {
          "output_type": "execute_result",
          "data": {
            "text/plain": [
              "20603"
            ]
          },
          "metadata": {},
          "execution_count": 8
        }
      ]
    },
    {
      "cell_type": "code",
      "source": [
        "caracteristiques_2021 = pd.read_csv(files_path + 'Data/carcteristiques-2021.csv', sep = \";\")\n",
        "caracteristiques_2020 = pd.read_csv(files_path + 'Data/caracteristiques-2020.csv', sep = \";\")\n",
        "caracteristiques_2019 = pd.read_csv(files_path + 'Data/caracteristiques-2019.csv', sep = \";\")\n",
        "caracteristiques_2018 = pd.read_csv(files_path + 'Data/caracteristiques-2018.csv', sep = \",\", encoding=\"ISO-8859-1\")\n",
        "\n",
        "lst = [caracteristiques_2018, caracteristiques_2019, caracteristiques_2020, caracteristiques_2021]  \n",
        "caracteristiques_df= pd.concat(lst, axis =0)\n",
        "\n",
        "caracteristiques_df.dtypes"
      ],
      "metadata": {
        "colab": {
          "base_uri": "https://localhost:8080/"
        },
        "id": "2z_hOfnvMH3C",
        "outputId": "4645ede6-de6e-4b49-a6a1-a337c26cd1e2"
      },
      "execution_count": null,
      "outputs": [
        {
          "output_type": "execute_result",
          "data": {
            "text/plain": [
              "Num_Acc      int64\n",
              "an           int64\n",
              "mois         int64\n",
              "jour         int64\n",
              "hrmn        object\n",
              "lum          int64\n",
              "agg          int64\n",
              "int          int64\n",
              "atm        float64\n",
              "col        float64\n",
              "com         object\n",
              "adr         object\n",
              "gps         object\n",
              "lat         object\n",
              "long        object\n",
              "dep         object\n",
              "dtype: object"
            ]
          },
          "metadata": {},
          "execution_count": 10
        }
      ]
    },
    {
      "cell_type": "code",
      "source": [
        "lieux_2021 = pd.read_csv(files_path + 'Data/lieux-2021.csv', sep = \";\")\n",
        "lieux_2020 = pd.read_csv(files_path + 'Data/lieux-2020.csv', sep = \";\")\n",
        "lieux_2019 = pd.read_csv(files_path + 'Data/lieux-2019.csv', sep = \";\")\n",
        "lieux_2018 = pd.read_csv(files_path + 'Data/lieux-2018.csv', sep = \",\", encoding=\"ISO-8859-1\")\n",
        "\n",
        "lst = [lieux_2018, lieux_2019, lieux_2020, lieux_2021]  \n",
        "lieux_df= pd.concat(lst, axis =0)\n",
        "\n",
        "lieux_df.head()\n",
        "lieux_df.dtypes"
      ],
      "metadata": {
        "colab": {
          "base_uri": "https://localhost:8080/"
        },
        "id": "R9BdfFEgNAob",
        "outputId": "84583845-2520-418f-d07e-57d37d9d2f71"
      },
      "execution_count": null,
      "outputs": [
        {
          "output_type": "stream",
          "name": "stderr",
          "text": [
            "/usr/local/lib/python3.8/dist-packages/IPython/core/interactiveshell.py:3326: DtypeWarning: Columns (2) have mixed types.Specify dtype option on import or set low_memory=False.\n",
            "  exec(code_obj, self.user_global_ns, self.user_ns)\n"
          ]
        },
        {
          "output_type": "execute_result",
          "data": {
            "text/plain": [
              "Num_Acc      int64\n",
              "catr         int64\n",
              "voie        object\n",
              "v1         float64\n",
              "v2          object\n",
              "circ       float64\n",
              "nbv        float64\n",
              "pr          object\n",
              "pr1         object\n",
              "vosp       float64\n",
              "prof       float64\n",
              "plan       float64\n",
              "lartpc      object\n",
              "larrout     object\n",
              "surf       float64\n",
              "infra      float64\n",
              "situ       float64\n",
              "env1       float64\n",
              "vma        float64\n",
              "dtype: object"
            ]
          },
          "metadata": {},
          "execution_count": 11
        }
      ]
    },
    {
      "cell_type": "code",
      "source": [
        "accident_df = pd.merge(velo_df, caracteristiques_df, on='Num_Acc', how='inner')"
      ],
      "metadata": {
        "id": "Ny6JTuFjGEE4"
      },
      "execution_count": null,
      "outputs": []
    },
    {
      "cell_type": "code",
      "source": [
        "accidents_df = pd.merge(accident_df, lieux_df, on='Num_Acc', how='inner')\n",
        "accidents_df.head()"
      ],
      "metadata": {
        "colab": {
          "base_uri": "https://localhost:8080/",
          "height": 233
        },
        "id": "PZVIv943NLbn",
        "outputId": "f7b88941-44a5-4bdb-f6b9-a06e131c8c49"
      },
      "execution_count": null,
      "outputs": [
        {
          "output_type": "execute_result",
          "data": {
            "text/plain": [
              "        Num_Acc  senc  catv  occutc   obs  obsm  choc  manv num_veh  \\\n",
              "0  201800000004   0.0     1     0.0   0.0   2.0   8.0   0.0     B01   \n",
              "1  201800000020   2.0     1     0.0  12.0   0.0   7.0   1.0     B01   \n",
              "2  201800000044   1.0     1     0.0   0.0   0.0   8.0   2.0     A01   \n",
              "3  201800000051   1.0     1     0.0   0.0   0.0   4.0   2.0     B01   \n",
              "4  201800000056   2.0     1     0.0   0.0   2.0   6.0   2.0     B01   \n",
              "\n",
              "  id_vehicule  ...  vosp  prof  plan  lartpc larrout  surf  infra  situ  env1  \\\n",
              "0         NaN  ...   0.0   1.0   1.0     NaN     NaN   1.0    0.0   1.0   0.0   \n",
              "1         NaN  ...   0.0   1.0   2.0     NaN     NaN   1.0    0.0   1.0   0.0   \n",
              "2         NaN  ...   0.0   1.0   1.0     NaN     NaN   1.0    0.0   1.0   0.0   \n",
              "3         NaN  ...   0.0   1.0   1.0     NaN     NaN   1.0    0.0   1.0   0.0   \n",
              "4         NaN  ...   0.0   1.0   1.0     NaN     NaN   1.0    0.0   1.0   0.0   \n",
              "\n",
              "   vma  \n",
              "0  NaN  \n",
              "1  NaN  \n",
              "2  NaN  \n",
              "3  NaN  \n",
              "4  NaN  \n",
              "\n",
              "[5 rows x 44 columns]"
            ],
            "text/html": [
              "\n",
              "  <div id=\"df-c624a867-88f6-400f-bb05-12ab1247305b\">\n",
              "    <div class=\"colab-df-container\">\n",
              "      <div>\n",
              "<style scoped>\n",
              "    .dataframe tbody tr th:only-of-type {\n",
              "        vertical-align: middle;\n",
              "    }\n",
              "\n",
              "    .dataframe tbody tr th {\n",
              "        vertical-align: top;\n",
              "    }\n",
              "\n",
              "    .dataframe thead th {\n",
              "        text-align: right;\n",
              "    }\n",
              "</style>\n",
              "<table border=\"1\" class=\"dataframe\">\n",
              "  <thead>\n",
              "    <tr style=\"text-align: right;\">\n",
              "      <th></th>\n",
              "      <th>Num_Acc</th>\n",
              "      <th>senc</th>\n",
              "      <th>catv</th>\n",
              "      <th>occutc</th>\n",
              "      <th>obs</th>\n",
              "      <th>obsm</th>\n",
              "      <th>choc</th>\n",
              "      <th>manv</th>\n",
              "      <th>num_veh</th>\n",
              "      <th>id_vehicule</th>\n",
              "      <th>...</th>\n",
              "      <th>vosp</th>\n",
              "      <th>prof</th>\n",
              "      <th>plan</th>\n",
              "      <th>lartpc</th>\n",
              "      <th>larrout</th>\n",
              "      <th>surf</th>\n",
              "      <th>infra</th>\n",
              "      <th>situ</th>\n",
              "      <th>env1</th>\n",
              "      <th>vma</th>\n",
              "    </tr>\n",
              "  </thead>\n",
              "  <tbody>\n",
              "    <tr>\n",
              "      <th>0</th>\n",
              "      <td>201800000004</td>\n",
              "      <td>0.0</td>\n",
              "      <td>1</td>\n",
              "      <td>0.0</td>\n",
              "      <td>0.0</td>\n",
              "      <td>2.0</td>\n",
              "      <td>8.0</td>\n",
              "      <td>0.0</td>\n",
              "      <td>B01</td>\n",
              "      <td>NaN</td>\n",
              "      <td>...</td>\n",
              "      <td>0.0</td>\n",
              "      <td>1.0</td>\n",
              "      <td>1.0</td>\n",
              "      <td>NaN</td>\n",
              "      <td>NaN</td>\n",
              "      <td>1.0</td>\n",
              "      <td>0.0</td>\n",
              "      <td>1.0</td>\n",
              "      <td>0.0</td>\n",
              "      <td>NaN</td>\n",
              "    </tr>\n",
              "    <tr>\n",
              "      <th>1</th>\n",
              "      <td>201800000020</td>\n",
              "      <td>2.0</td>\n",
              "      <td>1</td>\n",
              "      <td>0.0</td>\n",
              "      <td>12.0</td>\n",
              "      <td>0.0</td>\n",
              "      <td>7.0</td>\n",
              "      <td>1.0</td>\n",
              "      <td>B01</td>\n",
              "      <td>NaN</td>\n",
              "      <td>...</td>\n",
              "      <td>0.0</td>\n",
              "      <td>1.0</td>\n",
              "      <td>2.0</td>\n",
              "      <td>NaN</td>\n",
              "      <td>NaN</td>\n",
              "      <td>1.0</td>\n",
              "      <td>0.0</td>\n",
              "      <td>1.0</td>\n",
              "      <td>0.0</td>\n",
              "      <td>NaN</td>\n",
              "    </tr>\n",
              "    <tr>\n",
              "      <th>2</th>\n",
              "      <td>201800000044</td>\n",
              "      <td>1.0</td>\n",
              "      <td>1</td>\n",
              "      <td>0.0</td>\n",
              "      <td>0.0</td>\n",
              "      <td>0.0</td>\n",
              "      <td>8.0</td>\n",
              "      <td>2.0</td>\n",
              "      <td>A01</td>\n",
              "      <td>NaN</td>\n",
              "      <td>...</td>\n",
              "      <td>0.0</td>\n",
              "      <td>1.0</td>\n",
              "      <td>1.0</td>\n",
              "      <td>NaN</td>\n",
              "      <td>NaN</td>\n",
              "      <td>1.0</td>\n",
              "      <td>0.0</td>\n",
              "      <td>1.0</td>\n",
              "      <td>0.0</td>\n",
              "      <td>NaN</td>\n",
              "    </tr>\n",
              "    <tr>\n",
              "      <th>3</th>\n",
              "      <td>201800000051</td>\n",
              "      <td>1.0</td>\n",
              "      <td>1</td>\n",
              "      <td>0.0</td>\n",
              "      <td>0.0</td>\n",
              "      <td>0.0</td>\n",
              "      <td>4.0</td>\n",
              "      <td>2.0</td>\n",
              "      <td>B01</td>\n",
              "      <td>NaN</td>\n",
              "      <td>...</td>\n",
              "      <td>0.0</td>\n",
              "      <td>1.0</td>\n",
              "      <td>1.0</td>\n",
              "      <td>NaN</td>\n",
              "      <td>NaN</td>\n",
              "      <td>1.0</td>\n",
              "      <td>0.0</td>\n",
              "      <td>1.0</td>\n",
              "      <td>0.0</td>\n",
              "      <td>NaN</td>\n",
              "    </tr>\n",
              "    <tr>\n",
              "      <th>4</th>\n",
              "      <td>201800000056</td>\n",
              "      <td>2.0</td>\n",
              "      <td>1</td>\n",
              "      <td>0.0</td>\n",
              "      <td>0.0</td>\n",
              "      <td>2.0</td>\n",
              "      <td>6.0</td>\n",
              "      <td>2.0</td>\n",
              "      <td>B01</td>\n",
              "      <td>NaN</td>\n",
              "      <td>...</td>\n",
              "      <td>0.0</td>\n",
              "      <td>1.0</td>\n",
              "      <td>1.0</td>\n",
              "      <td>NaN</td>\n",
              "      <td>NaN</td>\n",
              "      <td>1.0</td>\n",
              "      <td>0.0</td>\n",
              "      <td>1.0</td>\n",
              "      <td>0.0</td>\n",
              "      <td>NaN</td>\n",
              "    </tr>\n",
              "  </tbody>\n",
              "</table>\n",
              "<p>5 rows × 44 columns</p>\n",
              "</div>\n",
              "      <button class=\"colab-df-convert\" onclick=\"convertToInteractive('df-c624a867-88f6-400f-bb05-12ab1247305b')\"\n",
              "              title=\"Convert this dataframe to an interactive table.\"\n",
              "              style=\"display:none;\">\n",
              "        \n",
              "  <svg xmlns=\"http://www.w3.org/2000/svg\" height=\"24px\"viewBox=\"0 0 24 24\"\n",
              "       width=\"24px\">\n",
              "    <path d=\"M0 0h24v24H0V0z\" fill=\"none\"/>\n",
              "    <path d=\"M18.56 5.44l.94 2.06.94-2.06 2.06-.94-2.06-.94-.94-2.06-.94 2.06-2.06.94zm-11 1L8.5 8.5l.94-2.06 2.06-.94-2.06-.94L8.5 2.5l-.94 2.06-2.06.94zm10 10l.94 2.06.94-2.06 2.06-.94-2.06-.94-.94-2.06-.94 2.06-2.06.94z\"/><path d=\"M17.41 7.96l-1.37-1.37c-.4-.4-.92-.59-1.43-.59-.52 0-1.04.2-1.43.59L10.3 9.45l-7.72 7.72c-.78.78-.78 2.05 0 2.83L4 21.41c.39.39.9.59 1.41.59.51 0 1.02-.2 1.41-.59l7.78-7.78 2.81-2.81c.8-.78.8-2.07 0-2.86zM5.41 20L4 18.59l7.72-7.72 1.47 1.35L5.41 20z\"/>\n",
              "  </svg>\n",
              "      </button>\n",
              "      \n",
              "  <style>\n",
              "    .colab-df-container {\n",
              "      display:flex;\n",
              "      flex-wrap:wrap;\n",
              "      gap: 12px;\n",
              "    }\n",
              "\n",
              "    .colab-df-convert {\n",
              "      background-color: #E8F0FE;\n",
              "      border: none;\n",
              "      border-radius: 50%;\n",
              "      cursor: pointer;\n",
              "      display: none;\n",
              "      fill: #1967D2;\n",
              "      height: 32px;\n",
              "      padding: 0 0 0 0;\n",
              "      width: 32px;\n",
              "    }\n",
              "\n",
              "    .colab-df-convert:hover {\n",
              "      background-color: #E2EBFA;\n",
              "      box-shadow: 0px 1px 2px rgba(60, 64, 67, 0.3), 0px 1px 3px 1px rgba(60, 64, 67, 0.15);\n",
              "      fill: #174EA6;\n",
              "    }\n",
              "\n",
              "    [theme=dark] .colab-df-convert {\n",
              "      background-color: #3B4455;\n",
              "      fill: #D2E3FC;\n",
              "    }\n",
              "\n",
              "    [theme=dark] .colab-df-convert:hover {\n",
              "      background-color: #434B5C;\n",
              "      box-shadow: 0px 1px 3px 1px rgba(0, 0, 0, 0.15);\n",
              "      filter: drop-shadow(0px 1px 2px rgba(0, 0, 0, 0.3));\n",
              "      fill: #FFFFFF;\n",
              "    }\n",
              "  </style>\n",
              "\n",
              "      <script>\n",
              "        const buttonEl =\n",
              "          document.querySelector('#df-c624a867-88f6-400f-bb05-12ab1247305b button.colab-df-convert');\n",
              "        buttonEl.style.display =\n",
              "          google.colab.kernel.accessAllowed ? 'block' : 'none';\n",
              "\n",
              "        async function convertToInteractive(key) {\n",
              "          const element = document.querySelector('#df-c624a867-88f6-400f-bb05-12ab1247305b');\n",
              "          const dataTable =\n",
              "            await google.colab.kernel.invokeFunction('convertToInteractive',\n",
              "                                                     [key], {});\n",
              "          if (!dataTable) return;\n",
              "\n",
              "          const docLinkHtml = 'Like what you see? Visit the ' +\n",
              "            '<a target=\"_blank\" href=https://colab.research.google.com/notebooks/data_table.ipynb>data table notebook</a>'\n",
              "            + ' to learn more about interactive tables.';\n",
              "          element.innerHTML = '';\n",
              "          dataTable['output_type'] = 'display_data';\n",
              "          await google.colab.output.renderOutput(dataTable, element);\n",
              "          const docLink = document.createElement('div');\n",
              "          docLink.innerHTML = docLinkHtml;\n",
              "          element.appendChild(docLink);\n",
              "        }\n",
              "      </script>\n",
              "    </div>\n",
              "  </div>\n",
              "  "
            ]
          },
          "metadata": {},
          "execution_count": 13
        }
      ]
    },
    {
      "cell_type": "code",
      "source": [
        "accidents_df.shape"
      ],
      "metadata": {
        "colab": {
          "base_uri": "https://localhost:8080/"
        },
        "id": "lWilyDuGNbKi",
        "outputId": "72278ade-3da8-4e2c-ddf4-366695683c42"
      },
      "execution_count": null,
      "outputs": [
        {
          "output_type": "execute_result",
          "data": {
            "text/plain": [
              "(20603, 44)"
            ]
          },
          "metadata": {},
          "execution_count": 14
        }
      ]
    },
    {
      "cell_type": "code",
      "source": [
        "# accidents_df.to_csv(files_path + 'Data/row_dataset.csv', index=False)"
      ],
      "metadata": {
        "id": "woQUQDc-NmE2"
      },
      "execution_count": null,
      "outputs": []
    },
    {
      "cell_type": "markdown",
      "source": [
        "## Merge with flux"
      ],
      "metadata": {
        "id": "4bJE7D3d_vfV"
      }
    },
    {
      "cell_type": "code",
      "source": [
        "dataset_row = pd.read_csv(files_path + 'Data/row_dataset.csv')\n",
        "dataset_row.head()"
      ],
      "metadata": {
        "id": "iltq2lEq_xDK",
        "colab": {
          "base_uri": "https://localhost:8080/",
          "height": 287
        },
        "outputId": "92c5312e-28b2-48be-c5ff-2b0702798b7b"
      },
      "execution_count": null,
      "outputs": [
        {
          "output_type": "stream",
          "name": "stderr",
          "text": [
            "/usr/local/lib/python3.8/dist-packages/IPython/core/interactiveshell.py:3326: DtypeWarning: Columns (22) have mixed types.Specify dtype option on import or set low_memory=False.\n",
            "  exec(code_obj, self.user_global_ns, self.user_ns)\n"
          ]
        },
        {
          "output_type": "execute_result",
          "data": {
            "text/plain": [
              "        Num_Acc  senc  catv  occutc   obs  obsm  choc  manv num_veh  \\\n",
              "0  201800000004   0.0     1     0.0   0.0   2.0   8.0   0.0     B01   \n",
              "1  201800000020   2.0     1     0.0  12.0   0.0   7.0   1.0     B01   \n",
              "2  201800000044   1.0     1     0.0   0.0   0.0   8.0   2.0     A01   \n",
              "3  201800000051   1.0     1     0.0   0.0   0.0   4.0   2.0     B01   \n",
              "4  201800000056   2.0     1     0.0   0.0   2.0   6.0   2.0     B01   \n",
              "\n",
              "  id_vehicule  ...  vosp  prof  plan  lartpc larrout  surf  infra  situ  env1  \\\n",
              "0         NaN  ...   0.0   1.0   1.0     NaN     NaN   1.0    0.0   1.0   0.0   \n",
              "1         NaN  ...   0.0   1.0   2.0     NaN     NaN   1.0    0.0   1.0   0.0   \n",
              "2         NaN  ...   0.0   1.0   1.0     NaN     NaN   1.0    0.0   1.0   0.0   \n",
              "3         NaN  ...   0.0   1.0   1.0     NaN     NaN   1.0    0.0   1.0   0.0   \n",
              "4         NaN  ...   0.0   1.0   1.0     NaN     NaN   1.0    0.0   1.0   0.0   \n",
              "\n",
              "   vma  \n",
              "0  NaN  \n",
              "1  NaN  \n",
              "2  NaN  \n",
              "3  NaN  \n",
              "4  NaN  \n",
              "\n",
              "[5 rows x 44 columns]"
            ],
            "text/html": [
              "\n",
              "  <div id=\"df-3b31ba8f-1986-4f47-987f-98163e2359a2\">\n",
              "    <div class=\"colab-df-container\">\n",
              "      <div>\n",
              "<style scoped>\n",
              "    .dataframe tbody tr th:only-of-type {\n",
              "        vertical-align: middle;\n",
              "    }\n",
              "\n",
              "    .dataframe tbody tr th {\n",
              "        vertical-align: top;\n",
              "    }\n",
              "\n",
              "    .dataframe thead th {\n",
              "        text-align: right;\n",
              "    }\n",
              "</style>\n",
              "<table border=\"1\" class=\"dataframe\">\n",
              "  <thead>\n",
              "    <tr style=\"text-align: right;\">\n",
              "      <th></th>\n",
              "      <th>Num_Acc</th>\n",
              "      <th>senc</th>\n",
              "      <th>catv</th>\n",
              "      <th>occutc</th>\n",
              "      <th>obs</th>\n",
              "      <th>obsm</th>\n",
              "      <th>choc</th>\n",
              "      <th>manv</th>\n",
              "      <th>num_veh</th>\n",
              "      <th>id_vehicule</th>\n",
              "      <th>...</th>\n",
              "      <th>vosp</th>\n",
              "      <th>prof</th>\n",
              "      <th>plan</th>\n",
              "      <th>lartpc</th>\n",
              "      <th>larrout</th>\n",
              "      <th>surf</th>\n",
              "      <th>infra</th>\n",
              "      <th>situ</th>\n",
              "      <th>env1</th>\n",
              "      <th>vma</th>\n",
              "    </tr>\n",
              "  </thead>\n",
              "  <tbody>\n",
              "    <tr>\n",
              "      <th>0</th>\n",
              "      <td>201800000004</td>\n",
              "      <td>0.0</td>\n",
              "      <td>1</td>\n",
              "      <td>0.0</td>\n",
              "      <td>0.0</td>\n",
              "      <td>2.0</td>\n",
              "      <td>8.0</td>\n",
              "      <td>0.0</td>\n",
              "      <td>B01</td>\n",
              "      <td>NaN</td>\n",
              "      <td>...</td>\n",
              "      <td>0.0</td>\n",
              "      <td>1.0</td>\n",
              "      <td>1.0</td>\n",
              "      <td>NaN</td>\n",
              "      <td>NaN</td>\n",
              "      <td>1.0</td>\n",
              "      <td>0.0</td>\n",
              "      <td>1.0</td>\n",
              "      <td>0.0</td>\n",
              "      <td>NaN</td>\n",
              "    </tr>\n",
              "    <tr>\n",
              "      <th>1</th>\n",
              "      <td>201800000020</td>\n",
              "      <td>2.0</td>\n",
              "      <td>1</td>\n",
              "      <td>0.0</td>\n",
              "      <td>12.0</td>\n",
              "      <td>0.0</td>\n",
              "      <td>7.0</td>\n",
              "      <td>1.0</td>\n",
              "      <td>B01</td>\n",
              "      <td>NaN</td>\n",
              "      <td>...</td>\n",
              "      <td>0.0</td>\n",
              "      <td>1.0</td>\n",
              "      <td>2.0</td>\n",
              "      <td>NaN</td>\n",
              "      <td>NaN</td>\n",
              "      <td>1.0</td>\n",
              "      <td>0.0</td>\n",
              "      <td>1.0</td>\n",
              "      <td>0.0</td>\n",
              "      <td>NaN</td>\n",
              "    </tr>\n",
              "    <tr>\n",
              "      <th>2</th>\n",
              "      <td>201800000044</td>\n",
              "      <td>1.0</td>\n",
              "      <td>1</td>\n",
              "      <td>0.0</td>\n",
              "      <td>0.0</td>\n",
              "      <td>0.0</td>\n",
              "      <td>8.0</td>\n",
              "      <td>2.0</td>\n",
              "      <td>A01</td>\n",
              "      <td>NaN</td>\n",
              "      <td>...</td>\n",
              "      <td>0.0</td>\n",
              "      <td>1.0</td>\n",
              "      <td>1.0</td>\n",
              "      <td>NaN</td>\n",
              "      <td>NaN</td>\n",
              "      <td>1.0</td>\n",
              "      <td>0.0</td>\n",
              "      <td>1.0</td>\n",
              "      <td>0.0</td>\n",
              "      <td>NaN</td>\n",
              "    </tr>\n",
              "    <tr>\n",
              "      <th>3</th>\n",
              "      <td>201800000051</td>\n",
              "      <td>1.0</td>\n",
              "      <td>1</td>\n",
              "      <td>0.0</td>\n",
              "      <td>0.0</td>\n",
              "      <td>0.0</td>\n",
              "      <td>4.0</td>\n",
              "      <td>2.0</td>\n",
              "      <td>B01</td>\n",
              "      <td>NaN</td>\n",
              "      <td>...</td>\n",
              "      <td>0.0</td>\n",
              "      <td>1.0</td>\n",
              "      <td>1.0</td>\n",
              "      <td>NaN</td>\n",
              "      <td>NaN</td>\n",
              "      <td>1.0</td>\n",
              "      <td>0.0</td>\n",
              "      <td>1.0</td>\n",
              "      <td>0.0</td>\n",
              "      <td>NaN</td>\n",
              "    </tr>\n",
              "    <tr>\n",
              "      <th>4</th>\n",
              "      <td>201800000056</td>\n",
              "      <td>2.0</td>\n",
              "      <td>1</td>\n",
              "      <td>0.0</td>\n",
              "      <td>0.0</td>\n",
              "      <td>2.0</td>\n",
              "      <td>6.0</td>\n",
              "      <td>2.0</td>\n",
              "      <td>B01</td>\n",
              "      <td>NaN</td>\n",
              "      <td>...</td>\n",
              "      <td>0.0</td>\n",
              "      <td>1.0</td>\n",
              "      <td>1.0</td>\n",
              "      <td>NaN</td>\n",
              "      <td>NaN</td>\n",
              "      <td>1.0</td>\n",
              "      <td>0.0</td>\n",
              "      <td>1.0</td>\n",
              "      <td>0.0</td>\n",
              "      <td>NaN</td>\n",
              "    </tr>\n",
              "  </tbody>\n",
              "</table>\n",
              "<p>5 rows × 44 columns</p>\n",
              "</div>\n",
              "      <button class=\"colab-df-convert\" onclick=\"convertToInteractive('df-3b31ba8f-1986-4f47-987f-98163e2359a2')\"\n",
              "              title=\"Convert this dataframe to an interactive table.\"\n",
              "              style=\"display:none;\">\n",
              "        \n",
              "  <svg xmlns=\"http://www.w3.org/2000/svg\" height=\"24px\"viewBox=\"0 0 24 24\"\n",
              "       width=\"24px\">\n",
              "    <path d=\"M0 0h24v24H0V0z\" fill=\"none\"/>\n",
              "    <path d=\"M18.56 5.44l.94 2.06.94-2.06 2.06-.94-2.06-.94-.94-2.06-.94 2.06-2.06.94zm-11 1L8.5 8.5l.94-2.06 2.06-.94-2.06-.94L8.5 2.5l-.94 2.06-2.06.94zm10 10l.94 2.06.94-2.06 2.06-.94-2.06-.94-.94-2.06-.94 2.06-2.06.94z\"/><path d=\"M17.41 7.96l-1.37-1.37c-.4-.4-.92-.59-1.43-.59-.52 0-1.04.2-1.43.59L10.3 9.45l-7.72 7.72c-.78.78-.78 2.05 0 2.83L4 21.41c.39.39.9.59 1.41.59.51 0 1.02-.2 1.41-.59l7.78-7.78 2.81-2.81c.8-.78.8-2.07 0-2.86zM5.41 20L4 18.59l7.72-7.72 1.47 1.35L5.41 20z\"/>\n",
              "  </svg>\n",
              "      </button>\n",
              "      \n",
              "  <style>\n",
              "    .colab-df-container {\n",
              "      display:flex;\n",
              "      flex-wrap:wrap;\n",
              "      gap: 12px;\n",
              "    }\n",
              "\n",
              "    .colab-df-convert {\n",
              "      background-color: #E8F0FE;\n",
              "      border: none;\n",
              "      border-radius: 50%;\n",
              "      cursor: pointer;\n",
              "      display: none;\n",
              "      fill: #1967D2;\n",
              "      height: 32px;\n",
              "      padding: 0 0 0 0;\n",
              "      width: 32px;\n",
              "    }\n",
              "\n",
              "    .colab-df-convert:hover {\n",
              "      background-color: #E2EBFA;\n",
              "      box-shadow: 0px 1px 2px rgba(60, 64, 67, 0.3), 0px 1px 3px 1px rgba(60, 64, 67, 0.15);\n",
              "      fill: #174EA6;\n",
              "    }\n",
              "\n",
              "    [theme=dark] .colab-df-convert {\n",
              "      background-color: #3B4455;\n",
              "      fill: #D2E3FC;\n",
              "    }\n",
              "\n",
              "    [theme=dark] .colab-df-convert:hover {\n",
              "      background-color: #434B5C;\n",
              "      box-shadow: 0px 1px 3px 1px rgba(0, 0, 0, 0.15);\n",
              "      filter: drop-shadow(0px 1px 2px rgba(0, 0, 0, 0.3));\n",
              "      fill: #FFFFFF;\n",
              "    }\n",
              "  </style>\n",
              "\n",
              "      <script>\n",
              "        const buttonEl =\n",
              "          document.querySelector('#df-3b31ba8f-1986-4f47-987f-98163e2359a2 button.colab-df-convert');\n",
              "        buttonEl.style.display =\n",
              "          google.colab.kernel.accessAllowed ? 'block' : 'none';\n",
              "\n",
              "        async function convertToInteractive(key) {\n",
              "          const element = document.querySelector('#df-3b31ba8f-1986-4f47-987f-98163e2359a2');\n",
              "          const dataTable =\n",
              "            await google.colab.kernel.invokeFunction('convertToInteractive',\n",
              "                                                     [key], {});\n",
              "          if (!dataTable) return;\n",
              "\n",
              "          const docLinkHtml = 'Like what you see? Visit the ' +\n",
              "            '<a target=\"_blank\" href=https://colab.research.google.com/notebooks/data_table.ipynb>data table notebook</a>'\n",
              "            + ' to learn more about interactive tables.';\n",
              "          element.innerHTML = '';\n",
              "          dataTable['output_type'] = 'display_data';\n",
              "          await google.colab.output.renderOutput(dataTable, element);\n",
              "          const docLink = document.createElement('div');\n",
              "          docLink.innerHTML = docLinkHtml;\n",
              "          element.appendChild(docLink);\n",
              "        }\n",
              "      </script>\n",
              "    </div>\n",
              "  </div>\n",
              "  "
            ]
          },
          "metadata": {},
          "execution_count": 230
        }
      ]
    },
    {
      "cell_type": "code",
      "source": [
        "# Pas très utile cette cellule, on arrive pas à récupérer les flux des accidents 2018\n",
        "dataset_2018 = dataset_row.loc[dataset_row['an'] == 18]\n",
        "df = dataset_row.loc[dataset_row['an'] != 18]\n",
        "\n",
        "dataset_2018.drop('voie', axis = 1)\n",
        "dataset_2018.rename(columns = {'adr':'voie'}, inplace = True)\n",
        "\n",
        "dataset_2018 = dataset_2018.reset_index(inplace=True, drop=True)\n",
        "\n",
        "dataset = pd.concat([dataset_2018, df], axis = 0)\n",
        "dataset.dtypes"
      ],
      "metadata": {
        "colab": {
          "base_uri": "https://localhost:8080/"
        },
        "id": "3321kLuAIsVY",
        "outputId": "36edfe40-1dba-4afb-929a-8c3dafa2cfc2"
      },
      "execution_count": null,
      "outputs": [
        {
          "output_type": "stream",
          "name": "stderr",
          "text": [
            "/usr/local/lib/python3.8/dist-packages/pandas/core/frame.py:5039: SettingWithCopyWarning: \n",
            "A value is trying to be set on a copy of a slice from a DataFrame\n",
            "\n",
            "See the caveats in the documentation: https://pandas.pydata.org/pandas-docs/stable/user_guide/indexing.html#returning-a-view-versus-a-copy\n",
            "  return super().rename(\n"
          ]
        },
        {
          "output_type": "execute_result",
          "data": {
            "text/plain": [
              "Num_Acc          int64\n",
              "senc           float64\n",
              "catv             int64\n",
              "occutc         float64\n",
              "obs            float64\n",
              "obsm           float64\n",
              "choc           float64\n",
              "manv           float64\n",
              "num_veh         object\n",
              "id_vehicule     object\n",
              "motor          float64\n",
              "an               int64\n",
              "mois             int64\n",
              "jour             int64\n",
              "hrmn            object\n",
              "lum              int64\n",
              "agg              int64\n",
              "int              int64\n",
              "atm            float64\n",
              "col            float64\n",
              "com             object\n",
              "adr             object\n",
              "gps             object\n",
              "lat             object\n",
              "long            object\n",
              "dep             object\n",
              "catr             int64\n",
              "voie            object\n",
              "v1             float64\n",
              "v2              object\n",
              "circ           float64\n",
              "nbv            float64\n",
              "pr              object\n",
              "pr1             object\n",
              "vosp           float64\n",
              "prof           float64\n",
              "plan           float64\n",
              "lartpc          object\n",
              "larrout         object\n",
              "surf           float64\n",
              "infra          float64\n",
              "situ           float64\n",
              "env1           float64\n",
              "vma            float64\n",
              "dtype: object"
            ]
          },
          "metadata": {},
          "execution_count": 233
        }
      ]
    },
    {
      "cell_type": "code",
      "source": [
        "def name_formating(nom_compteur):\n",
        "  return nom_compteur[:-6]\n",
        "print(name_formating('rue cb NE-SE'))\n",
        "\n",
        "def suppress_winter_hour(date):\n",
        "  caracteres = list(date)\n",
        "  caracteres[-4] = \"0\"\n",
        "  date = \"\".join(caracteres)\n",
        "  return date\n",
        "print(suppress_winter_hour('2019-11-29T01:00:00+01:00'))"
      ],
      "metadata": {
        "colab": {
          "base_uri": "https://localhost:8080/"
        },
        "id": "R5yO9SRLgI-m",
        "outputId": "3895d5d3-2af4-4bab-fb0b-8debce0c8741"
      },
      "execution_count": null,
      "outputs": [
        {
          "output_type": "stream",
          "name": "stdout",
          "text": [
            "rue cb\n",
            "2019-11-29T01:00:00+00:00\n"
          ]
        }
      ]
    },
    {
      "cell_type": "code",
      "source": [
        "flux_2021 = pd.read_csv(files_path + 'Data/comptage-velo-donnees-compteurs.csv', sep = \";\")\n",
        "flux_2020 = pd.read_csv(files_path + 'Data/comptage-velo-donnees-compteurs-2020.csv', sep = \";\")\n",
        "flux_2019 = pd.read_csv(files_path + 'Data/comptage-velo-donnees-compteurs-2019.csv', sep = \";\")\n",
        "flux_2018 = pd.read_csv(files_path + 'Data/comptage-velo-donnees-compteurs-2018.csv', sep = \";\")\n",
        "\n",
        "flux_2020.rename(columns = {'Date et heure de comptage':'date'}, inplace = True)\n",
        "flux_2019.rename(columns = {'Date et heure de comptage':'date'}, inplace = True)\n",
        "flux_2018.rename(columns = {'Date et heure de comptage':'date'}, inplace = True)\n",
        "\n",
        "flux_2020[\"Nom du compteur\"] = flux_2020[\"Nom du compteur\"].apply(name_formating)\n",
        "flux_2019[\"Nom du compteur\"] = flux_2019[\"Nom du compteur\"].apply(name_formating)\n",
        "flux_2018[\"Nom du compteur\"] = flux_2018[\"Nom du compteur\"].apply(name_formating)\n",
        "\n",
        "flux_2020[\"date\"] = flux_2020[\"date\"].apply(suppress_winter_hour)\n",
        "flux_2019[\"date\"] = flux_2019[\"date\"].apply(suppress_winter_hour)\n",
        "flux_2018[\"date\"] = flux_2018[\"date\"].apply(suppress_winter_hour)\n",
        "\n",
        "flux_2020.rename(columns = {'Nom du compteur':'name'}, inplace = True)\n",
        "flux_2019.rename(columns = {'Nom du compteur':'name'}, inplace = True)\n",
        "flux_2018.rename(columns = {'Nom du compteur':'name'}, inplace = True)\n",
        "\n",
        "lst = [flux_2018, flux_2019, flux_2020, flux_2021]  \n",
        "flux_df= pd.concat(lst, axis =0)\n",
        "\n",
        "flux_df.head()"
      ],
      "metadata": {
        "colab": {
          "base_uri": "https://localhost:8080/",
          "height": 518
        },
        "id": "0pmUQm7luyTG",
        "outputId": "175b7dda-0844-439a-e9ba-a0a808e28c56"
      },
      "execution_count": null,
      "outputs": [
        {
          "output_type": "execute_result",
          "data": {
            "text/plain": [
              "  Identifiant du compteur                name  \\\n",
              "0     100047547-104047547  6 rue Julia Bartet   \n",
              "1     100047547-104047547  6 rue Julia Bartet   \n",
              "2     100047547-104047547  6 rue Julia Bartet   \n",
              "3     100047547-104047547  6 rue Julia Bartet   \n",
              "4     100047547-104047547  6 rue Julia Bartet   \n",
              "\n",
              "   Identifiant du site de comptage Nom du site de comptage  Comptage horaire  \\\n",
              "0                      100047547.0      6 rue Julia Bartet               4.0   \n",
              "1                      100047547.0      6 rue Julia Bartet              30.0   \n",
              "2                      100047547.0      6 rue Julia Bartet             116.0   \n",
              "3                      100047547.0      6 rue Julia Bartet               0.0   \n",
              "4                      100047547.0      6 rue Julia Bartet              18.0   \n",
              "\n",
              "                        date Date d'installation du site de comptage  \\\n",
              "0  2018-11-29T01:00:00+00:00                              2018-11-28   \n",
              "1  2018-11-29T22:00:00+00:00                              2018-11-28   \n",
              "2  2018-11-30T17:00:00+00:00                              2018-11-28   \n",
              "3  2018-12-03T01:00:00+00:00                              2018-11-28   \n",
              "4  2018-12-03T11:00:00+00:00                              2018-11-28   \n",
              "\n",
              "                 Lien vers photo du site de comptage  \\\n",
              "0  https://www.eco-visio.net/Photos/100047547/154...   \n",
              "1  https://www.eco-visio.net/Photos/100047547/154...   \n",
              "2  https://www.eco-visio.net/Photos/100047547/154...   \n",
              "3  https://www.eco-visio.net/Photos/100047547/154...   \n",
              "4  https://www.eco-visio.net/Photos/100047547/154...   \n",
              "\n",
              "  Coordonnées géographiques id_compteur  ... installation_date  url_photos_n1  \\\n",
              "0         48.82648,2.303149         NaN  ...               NaN            NaN   \n",
              "1         48.82648,2.303149         NaN  ...               NaN            NaN   \n",
              "2         48.82648,2.303149         NaN  ...               NaN            NaN   \n",
              "3         48.82648,2.303149         NaN  ...               NaN            NaN   \n",
              "4         48.82648,2.303149         NaN  ...               NaN            NaN   \n",
              "\n",
              "   coordinates counter photos test_lien_vers_photos_du_site_de_comptage_  \\\n",
              "0          NaN     NaN    NaN                                        NaN   \n",
              "1          NaN     NaN    NaN                                        NaN   \n",
              "2          NaN     NaN    NaN                                        NaN   \n",
              "3          NaN     NaN    NaN                                        NaN   \n",
              "4          NaN     NaN    NaN                                        NaN   \n",
              "\n",
              "  id_photo_1 url_sites type_dimage mois_annee_comptage  \n",
              "0        NaN       NaN         NaN                 NaN  \n",
              "1        NaN       NaN         NaN                 NaN  \n",
              "2        NaN       NaN         NaN                 NaN  \n",
              "3        NaN       NaN         NaN                 NaN  \n",
              "4        NaN       NaN         NaN                 NaN  \n",
              "\n",
              "[5 rows x 23 columns]"
            ],
            "text/html": [
              "\n",
              "  <div id=\"df-0ac5e1df-2577-43b8-b7fc-5a9de87888e3\">\n",
              "    <div class=\"colab-df-container\">\n",
              "      <div>\n",
              "<style scoped>\n",
              "    .dataframe tbody tr th:only-of-type {\n",
              "        vertical-align: middle;\n",
              "    }\n",
              "\n",
              "    .dataframe tbody tr th {\n",
              "        vertical-align: top;\n",
              "    }\n",
              "\n",
              "    .dataframe thead th {\n",
              "        text-align: right;\n",
              "    }\n",
              "</style>\n",
              "<table border=\"1\" class=\"dataframe\">\n",
              "  <thead>\n",
              "    <tr style=\"text-align: right;\">\n",
              "      <th></th>\n",
              "      <th>Identifiant du compteur</th>\n",
              "      <th>name</th>\n",
              "      <th>Identifiant du site de comptage</th>\n",
              "      <th>Nom du site de comptage</th>\n",
              "      <th>Comptage horaire</th>\n",
              "      <th>date</th>\n",
              "      <th>Date d'installation du site de comptage</th>\n",
              "      <th>Lien vers photo du site de comptage</th>\n",
              "      <th>Coordonnées géographiques</th>\n",
              "      <th>id_compteur</th>\n",
              "      <th>...</th>\n",
              "      <th>installation_date</th>\n",
              "      <th>url_photos_n1</th>\n",
              "      <th>coordinates</th>\n",
              "      <th>counter</th>\n",
              "      <th>photos</th>\n",
              "      <th>test_lien_vers_photos_du_site_de_comptage_</th>\n",
              "      <th>id_photo_1</th>\n",
              "      <th>url_sites</th>\n",
              "      <th>type_dimage</th>\n",
              "      <th>mois_annee_comptage</th>\n",
              "    </tr>\n",
              "  </thead>\n",
              "  <tbody>\n",
              "    <tr>\n",
              "      <th>0</th>\n",
              "      <td>100047547-104047547</td>\n",
              "      <td>6 rue Julia Bartet</td>\n",
              "      <td>100047547.0</td>\n",
              "      <td>6 rue Julia Bartet</td>\n",
              "      <td>4.0</td>\n",
              "      <td>2018-11-29T01:00:00+00:00</td>\n",
              "      <td>2018-11-28</td>\n",
              "      <td>https://www.eco-visio.net/Photos/100047547/154...</td>\n",
              "      <td>48.82648,2.303149</td>\n",
              "      <td>NaN</td>\n",
              "      <td>...</td>\n",
              "      <td>NaN</td>\n",
              "      <td>NaN</td>\n",
              "      <td>NaN</td>\n",
              "      <td>NaN</td>\n",
              "      <td>NaN</td>\n",
              "      <td>NaN</td>\n",
              "      <td>NaN</td>\n",
              "      <td>NaN</td>\n",
              "      <td>NaN</td>\n",
              "      <td>NaN</td>\n",
              "    </tr>\n",
              "    <tr>\n",
              "      <th>1</th>\n",
              "      <td>100047547-104047547</td>\n",
              "      <td>6 rue Julia Bartet</td>\n",
              "      <td>100047547.0</td>\n",
              "      <td>6 rue Julia Bartet</td>\n",
              "      <td>30.0</td>\n",
              "      <td>2018-11-29T22:00:00+00:00</td>\n",
              "      <td>2018-11-28</td>\n",
              "      <td>https://www.eco-visio.net/Photos/100047547/154...</td>\n",
              "      <td>48.82648,2.303149</td>\n",
              "      <td>NaN</td>\n",
              "      <td>...</td>\n",
              "      <td>NaN</td>\n",
              "      <td>NaN</td>\n",
              "      <td>NaN</td>\n",
              "      <td>NaN</td>\n",
              "      <td>NaN</td>\n",
              "      <td>NaN</td>\n",
              "      <td>NaN</td>\n",
              "      <td>NaN</td>\n",
              "      <td>NaN</td>\n",
              "      <td>NaN</td>\n",
              "    </tr>\n",
              "    <tr>\n",
              "      <th>2</th>\n",
              "      <td>100047547-104047547</td>\n",
              "      <td>6 rue Julia Bartet</td>\n",
              "      <td>100047547.0</td>\n",
              "      <td>6 rue Julia Bartet</td>\n",
              "      <td>116.0</td>\n",
              "      <td>2018-11-30T17:00:00+00:00</td>\n",
              "      <td>2018-11-28</td>\n",
              "      <td>https://www.eco-visio.net/Photos/100047547/154...</td>\n",
              "      <td>48.82648,2.303149</td>\n",
              "      <td>NaN</td>\n",
              "      <td>...</td>\n",
              "      <td>NaN</td>\n",
              "      <td>NaN</td>\n",
              "      <td>NaN</td>\n",
              "      <td>NaN</td>\n",
              "      <td>NaN</td>\n",
              "      <td>NaN</td>\n",
              "      <td>NaN</td>\n",
              "      <td>NaN</td>\n",
              "      <td>NaN</td>\n",
              "      <td>NaN</td>\n",
              "    </tr>\n",
              "    <tr>\n",
              "      <th>3</th>\n",
              "      <td>100047547-104047547</td>\n",
              "      <td>6 rue Julia Bartet</td>\n",
              "      <td>100047547.0</td>\n",
              "      <td>6 rue Julia Bartet</td>\n",
              "      <td>0.0</td>\n",
              "      <td>2018-12-03T01:00:00+00:00</td>\n",
              "      <td>2018-11-28</td>\n",
              "      <td>https://www.eco-visio.net/Photos/100047547/154...</td>\n",
              "      <td>48.82648,2.303149</td>\n",
              "      <td>NaN</td>\n",
              "      <td>...</td>\n",
              "      <td>NaN</td>\n",
              "      <td>NaN</td>\n",
              "      <td>NaN</td>\n",
              "      <td>NaN</td>\n",
              "      <td>NaN</td>\n",
              "      <td>NaN</td>\n",
              "      <td>NaN</td>\n",
              "      <td>NaN</td>\n",
              "      <td>NaN</td>\n",
              "      <td>NaN</td>\n",
              "    </tr>\n",
              "    <tr>\n",
              "      <th>4</th>\n",
              "      <td>100047547-104047547</td>\n",
              "      <td>6 rue Julia Bartet</td>\n",
              "      <td>100047547.0</td>\n",
              "      <td>6 rue Julia Bartet</td>\n",
              "      <td>18.0</td>\n",
              "      <td>2018-12-03T11:00:00+00:00</td>\n",
              "      <td>2018-11-28</td>\n",
              "      <td>https://www.eco-visio.net/Photos/100047547/154...</td>\n",
              "      <td>48.82648,2.303149</td>\n",
              "      <td>NaN</td>\n",
              "      <td>...</td>\n",
              "      <td>NaN</td>\n",
              "      <td>NaN</td>\n",
              "      <td>NaN</td>\n",
              "      <td>NaN</td>\n",
              "      <td>NaN</td>\n",
              "      <td>NaN</td>\n",
              "      <td>NaN</td>\n",
              "      <td>NaN</td>\n",
              "      <td>NaN</td>\n",
              "      <td>NaN</td>\n",
              "    </tr>\n",
              "  </tbody>\n",
              "</table>\n",
              "<p>5 rows × 23 columns</p>\n",
              "</div>\n",
              "      <button class=\"colab-df-convert\" onclick=\"convertToInteractive('df-0ac5e1df-2577-43b8-b7fc-5a9de87888e3')\"\n",
              "              title=\"Convert this dataframe to an interactive table.\"\n",
              "              style=\"display:none;\">\n",
              "        \n",
              "  <svg xmlns=\"http://www.w3.org/2000/svg\" height=\"24px\"viewBox=\"0 0 24 24\"\n",
              "       width=\"24px\">\n",
              "    <path d=\"M0 0h24v24H0V0z\" fill=\"none\"/>\n",
              "    <path d=\"M18.56 5.44l.94 2.06.94-2.06 2.06-.94-2.06-.94-.94-2.06-.94 2.06-2.06.94zm-11 1L8.5 8.5l.94-2.06 2.06-.94-2.06-.94L8.5 2.5l-.94 2.06-2.06.94zm10 10l.94 2.06.94-2.06 2.06-.94-2.06-.94-.94-2.06-.94 2.06-2.06.94z\"/><path d=\"M17.41 7.96l-1.37-1.37c-.4-.4-.92-.59-1.43-.59-.52 0-1.04.2-1.43.59L10.3 9.45l-7.72 7.72c-.78.78-.78 2.05 0 2.83L4 21.41c.39.39.9.59 1.41.59.51 0 1.02-.2 1.41-.59l7.78-7.78 2.81-2.81c.8-.78.8-2.07 0-2.86zM5.41 20L4 18.59l7.72-7.72 1.47 1.35L5.41 20z\"/>\n",
              "  </svg>\n",
              "      </button>\n",
              "      \n",
              "  <style>\n",
              "    .colab-df-container {\n",
              "      display:flex;\n",
              "      flex-wrap:wrap;\n",
              "      gap: 12px;\n",
              "    }\n",
              "\n",
              "    .colab-df-convert {\n",
              "      background-color: #E8F0FE;\n",
              "      border: none;\n",
              "      border-radius: 50%;\n",
              "      cursor: pointer;\n",
              "      display: none;\n",
              "      fill: #1967D2;\n",
              "      height: 32px;\n",
              "      padding: 0 0 0 0;\n",
              "      width: 32px;\n",
              "    }\n",
              "\n",
              "    .colab-df-convert:hover {\n",
              "      background-color: #E2EBFA;\n",
              "      box-shadow: 0px 1px 2px rgba(60, 64, 67, 0.3), 0px 1px 3px 1px rgba(60, 64, 67, 0.15);\n",
              "      fill: #174EA6;\n",
              "    }\n",
              "\n",
              "    [theme=dark] .colab-df-convert {\n",
              "      background-color: #3B4455;\n",
              "      fill: #D2E3FC;\n",
              "    }\n",
              "\n",
              "    [theme=dark] .colab-df-convert:hover {\n",
              "      background-color: #434B5C;\n",
              "      box-shadow: 0px 1px 3px 1px rgba(0, 0, 0, 0.15);\n",
              "      filter: drop-shadow(0px 1px 2px rgba(0, 0, 0, 0.3));\n",
              "      fill: #FFFFFF;\n",
              "    }\n",
              "  </style>\n",
              "\n",
              "      <script>\n",
              "        const buttonEl =\n",
              "          document.querySelector('#df-0ac5e1df-2577-43b8-b7fc-5a9de87888e3 button.colab-df-convert');\n",
              "        buttonEl.style.display =\n",
              "          google.colab.kernel.accessAllowed ? 'block' : 'none';\n",
              "\n",
              "        async function convertToInteractive(key) {\n",
              "          const element = document.querySelector('#df-0ac5e1df-2577-43b8-b7fc-5a9de87888e3');\n",
              "          const dataTable =\n",
              "            await google.colab.kernel.invokeFunction('convertToInteractive',\n",
              "                                                     [key], {});\n",
              "          if (!dataTable) return;\n",
              "\n",
              "          const docLinkHtml = 'Like what you see? Visit the ' +\n",
              "            '<a target=\"_blank\" href=https://colab.research.google.com/notebooks/data_table.ipynb>data table notebook</a>'\n",
              "            + ' to learn more about interactive tables.';\n",
              "          element.innerHTML = '';\n",
              "          dataTable['output_type'] = 'display_data';\n",
              "          await google.colab.output.renderOutput(dataTable, element);\n",
              "          const docLink = document.createElement('div');\n",
              "          docLink.innerHTML = docLinkHtml;\n",
              "          element.appendChild(docLink);\n",
              "        }\n",
              "      </script>\n",
              "    </div>\n",
              "  </div>\n",
              "  "
            ]
          },
          "metadata": {},
          "execution_count": 225
        }
      ]
    },
    {
      "cell_type": "code",
      "source": [
        "print(dataset['an'].min())\n",
        "print(dataset['an'].max())"
      ],
      "metadata": {
        "colab": {
          "base_uri": "https://localhost:8080/"
        },
        "id": "vOZxhyvVcMM8",
        "outputId": "b0a5afe6-9592-49c3-b753-834af066b7be"
      },
      "execution_count": null,
      "outputs": [
        {
          "output_type": "stream",
          "name": "stdout",
          "text": [
            "2019\n",
            "2021\n"
          ]
        }
      ]
    },
    {
      "cell_type": "code",
      "source": [
        "def formating_year(yyyy):\n",
        "  if yyyy < 100 :\n",
        "    return \"20\" + str(yyyy)\n",
        "  return str(yyyy)\n",
        "\n",
        "def formating_month(mm):\n",
        "  if mm < 10 :\n",
        "    return \"0\" + str(mm)\n",
        "  return str(mm)\n",
        "\n",
        "def formating_day(dd):\n",
        "  if dd < 10 :\n",
        "    return '0' + str(dd)\n",
        "  return str(dd)\n",
        "\n",
        "def formating_hour(hh_mm):\n",
        "  return str(hh_mm[:2])\n",
        "formating_hour(\"03:12\")"
      ],
      "metadata": {
        "id": "BYb-EwomcMXT",
        "colab": {
          "base_uri": "https://localhost:8080/",
          "height": 37
        },
        "outputId": "e92e95fa-24c4-48c1-f03d-0d466db9770a"
      },
      "execution_count": null,
      "outputs": [
        {
          "output_type": "execute_result",
          "data": {
            "text/plain": [
              "'03'"
            ],
            "application/vnd.google.colaboratory.intrinsic+json": {
              "type": "string"
            }
          },
          "metadata": {},
          "execution_count": 254
        }
      ]
    },
    {
      "cell_type": "code",
      "source": [
        "def date_formating(yyyy, mm, dd, hh_mm):\n",
        "  yyyy = formating_year(yyyy)\n",
        "  mm = formating_month(mm)\n",
        "  dd = formating_day(dd)\n",
        "  hh = formating_hour(hh_mm)\n",
        "  return yyyy + \"-\" + mm + \"-\" + dd + \"T\" + hh+\":00:00+00:00\"\n",
        "\n",
        "date_formating(18, 1, 12, \"12:12\")"
      ],
      "metadata": {
        "colab": {
          "base_uri": "https://localhost:8080/",
          "height": 37
        },
        "id": "W6E0xUP6iskP",
        "outputId": "3416059f-f0a4-42c7-cbd7-1b4e1e2469fd"
      },
      "execution_count": null,
      "outputs": [
        {
          "output_type": "execute_result",
          "data": {
            "text/plain": [
              "'2018-01-12T12:00:00+00:00'"
            ],
            "application/vnd.google.colaboratory.intrinsic+json": {
              "type": "string"
            }
          },
          "metadata": {},
          "execution_count": 240
        }
      ]
    },
    {
      "cell_type": "code",
      "source": [
        "dataset['date'] = dataset.apply(lambda x: date_formating(x['an'], x['mois'], x['jour'], x['hrmn']), axis=1)"
      ],
      "metadata": {
        "colab": {
          "base_uri": "https://localhost:8080/"
        },
        "id": "_puGva53iNC6",
        "outputId": "d6f80f32-57b8-4e0c-db5a-97df4bdf13cc"
      },
      "execution_count": null,
      "outputs": [
        {
          "output_type": "execute_result",
          "data": {
            "text/plain": [
              "Series([], Name: date, dtype: object)"
            ]
          },
          "metadata": {},
          "execution_count": 241
        }
      ]
    },
    {
      "cell_type": "code",
      "source": [
        "!pip install unidecode\n",
        "import unidecode"
      ],
      "metadata": {
        "colab": {
          "base_uri": "https://localhost:8080/"
        },
        "id": "GcPjmy7i3_jS",
        "outputId": "ba0ac665-61da-4639-8aaa-2828a5f0bf57"
      },
      "execution_count": null,
      "outputs": [
        {
          "output_type": "stream",
          "name": "stdout",
          "text": [
            "Looking in indexes: https://pypi.org/simple, https://us-python.pkg.dev/colab-wheels/public/simple/\n",
            "Requirement already satisfied: unidecode in /usr/local/lib/python3.8/dist-packages (1.3.6)\n"
          ]
        }
      ]
    },
    {
      "cell_type": "code",
      "source": [
        "def street_formating(street):\n",
        "  if ((\"(\" in street) and (\")\" in street)):\n",
        "    i1 = street.index('(')\n",
        "    i2 = street.index(')')\n",
        "    voie = street[i1:i2]\n",
        "    street = street[:i1]\n",
        "    street = voie + street\n",
        "  street = ''.join(x for x in street if (x.isalpha() )) #or x == ' '))\n",
        "  street = unidecode.unidecode(street)\n",
        "  street = street.lower()\n",
        "  return street\n",
        "\n",
        "street_formating(\"Vieux Chêne (Rue)\")"
      ],
      "metadata": {
        "colab": {
          "base_uri": "https://localhost:8080/",
          "height": 37
        },
        "id": "TqtfWwyEOLmO",
        "outputId": "c0ae9b1e-172d-4ea1-c70d-937c5874ca8e"
      },
      "execution_count": null,
      "outputs": [
        {
          "output_type": "execute_result",
          "data": {
            "text/plain": [
              "'ruevieuxchene'"
            ],
            "application/vnd.google.colaboratory.intrinsic+json": {
              "type": "string"
            }
          },
          "metadata": {},
          "execution_count": 200
        }
      ]
    },
    {
      "cell_type": "code",
      "source": [
        "# Conserver uniquement les voie qui sont sous la forme de string \n",
        "# Retire les Nan, les integer, les espaces, les majuscules, et les voies de - de 5 lettres\n",
        "dataset = dataset[dataset['voie'].apply(lambda x: (isinstance(x, str) and len(x) > 10))]\n",
        "dataset[\"voie\"] = dataset['voie'].apply(street_formating)\n",
        "dataset[\"voie\"].head()"
      ],
      "metadata": {
        "colab": {
          "base_uri": "https://localhost:8080/"
        },
        "id": "8wkzJf1tAI4Y",
        "outputId": "c23bcb5b-07ad-491b-c734-7577ac627b68"
      },
      "execution_count": null,
      "outputs": [
        {
          "output_type": "stream",
          "name": "stderr",
          "text": [
            "<ipython-input-242-306e97514fa6>:4: SettingWithCopyWarning: \n",
            "A value is trying to be set on a copy of a slice from a DataFrame.\n",
            "Try using .loc[row_indexer,col_indexer] = value instead\n",
            "\n",
            "See the caveats in the documentation: https://pandas.pydata.org/pandas-docs/stable/user_guide/indexing.html#returning-a-view-versus-a-copy\n",
            "  dataset[\"voie\"] = dataset['voie'].apply(street_formating)\n"
          ]
        },
        {
          "output_type": "execute_result",
          "data": {
            "text/plain": [
              "4967        avenuejeanjaures\n",
              "4968         placejeanmoulin\n",
              "4969    turpindecrisseavenue\n",
              "4970           ruedesmontees\n",
              "4971          crsjournuauber\n",
              "                ...         \n",
              "5165             ruedufuyant\n",
              "5167               citemango\n",
              "5168        avenuedelegalite\n",
              "5170         ruedelabellerie\n",
              "5171              bdalberter\n",
              "Name: voie, Length: 100, dtype: object"
            ]
          },
          "metadata": {},
          "execution_count": 242
        }
      ]
    },
    {
      "cell_type": "code",
      "source": [
        "# Conserver uniquement les voie qui sont sous la forme de string \n",
        "# Retire les Nan, les integer, les espaces, les majuscules, et les voies de - de 5 lettres\n",
        "flux_df = flux_df[flux_df['name'].apply(lambda x: (isinstance(x, str) and len(x) > 5))]\n",
        "flux_df[\"name\"] = flux_df['name'].apply(street_formating)\n",
        "flux_df.rename(columns = {'name':'voie'}, inplace = True)\n",
        "flux_df[\"voie\"].head()"
      ],
      "metadata": {
        "colab": {
          "base_uri": "https://localhost:8080/"
        },
        "id": "5-9Y1It4ZNey",
        "outputId": "4f56449f-c555-42ef-af7e-f81b7168fb65"
      },
      "execution_count": null,
      "outputs": [
        {
          "output_type": "execute_result",
          "data": {
            "text/plain": [
              "0    ruejuliabartet\n",
              "1    ruejuliabartet\n",
              "2    ruejuliabartet\n",
              "3    ruejuliabartet\n",
              "4    ruejuliabartet\n",
              "Name: voie, dtype: object"
            ]
          },
          "metadata": {},
          "execution_count": 245
        }
      ]
    },
    {
      "cell_type": "code",
      "source": [
        "flux_accident = pd.merge(flux_df, dataset, on=['date', 'voie'], how='inner')\n",
        "flux_accident.shape"
      ],
      "metadata": {
        "id": "K0joaqM5ZFNQ",
        "colab": {
          "base_uri": "https://localhost:8080/"
        },
        "outputId": "cdf78261-1685-413b-d78f-5547bd9b0906"
      },
      "execution_count": null,
      "outputs": [
        {
          "output_type": "execute_result",
          "data": {
            "text/plain": [
              "(120, 66)"
            ]
          },
          "metadata": {},
          "execution_count": 247
        }
      ]
    },
    {
      "cell_type": "code",
      "source": [
        "# flux_accident.to_csv(files_path + 'Data/accident_flux.csv', index=False)"
      ],
      "metadata": {
        "id": "GBUddI3aRJxX"
      },
      "execution_count": null,
      "outputs": []
    },
    {
      "cell_type": "code",
      "source": [
        "test = flux_df[flux_df['date'].str.startswith('2019-11-29')]\n",
        "test['date'].unique()"
      ],
      "metadata": {
        "colab": {
          "base_uri": "https://localhost:8080/"
        },
        "id": "hcup0MqL65AS",
        "outputId": "e5e002ae-7947-45a5-995d-e9fe92378714"
      },
      "execution_count": null,
      "outputs": [
        {
          "output_type": "execute_result",
          "data": {
            "text/plain": [
              "array(['2018-11-29T01:00:00+00:00', '2018-11-29T22:00:00+00:00',\n",
              "       '2018-11-30T17:00:00+00:00', ..., '2023-01-10T07:00:00+00:00',\n",
              "       '2023-01-10T15:00:00+00:00', '2021-11-29T22:00:00+00:00'],\n",
              "      dtype=object)"
            ]
          },
          "metadata": {},
          "execution_count": 249
        }
      ]
    },
    {
      "cell_type": "code",
      "source": [
        "most_used_axes = flux_accident.groupby(['voie'])['voie'].count()\n",
        "most_used_axes.sort_values(ascending = False).head(20)"
      ],
      "metadata": {
        "colab": {
          "base_uri": "https://localhost:8080/"
        },
        "id": "3F6TO-dnaeWV",
        "outputId": "d92a93b7-ad4f-4f9b-b2f1-64260b555f98"
      },
      "execution_count": null,
      "outputs": [
        {
          "output_type": "execute_result",
          "data": {
            "text/plain": [
              "voie\n",
              "boulevardvoltaire          28\n",
              "voiegeorgespompidou        20\n",
              "boulevarddemagenta         14\n",
              "boulevardsaintgermain      10\n",
              "quaidelhoteldeville         8\n",
              "avenuedaumesnil             7\n",
              "avenuedelagrandearmee       4\n",
              "avenuedeschampselysees      4\n",
              "boulevarddemenilmontant     4\n",
              "quaifrancoismauriac         4\n",
              "ruejuliabartet              4\n",
              "avenuedenfertrochereau      2\n",
              "boulevardaugusteblanqui     2\n",
              "avenuedeflandre             2\n",
              "quaidelatournelle           2\n",
              "ruedevaugirard              2\n",
              "ruelafayette                2\n",
              "ruesaintjacques             1\n",
              "Name: voie, dtype: int64"
            ]
          },
          "metadata": {},
          "execution_count": 251
        }
      ]
    },
    {
      "cell_type": "code",
      "source": [
        "print(flux_accident['date'].min())\n",
        "print(flux_accident['date'].max())"
      ],
      "metadata": {
        "colab": {
          "base_uri": "https://localhost:8080/"
        },
        "id": "x5yjWNda5c_q",
        "outputId": "c13148b8-3725-4793-f420-86897df6242e"
      },
      "execution_count": null,
      "outputs": [
        {
          "output_type": "stream",
          "name": "stdout",
          "text": [
            "2019-01-16T13:00:00+00:00\n",
            "2021-12-28T19:00:00+00:00\n"
          ]
        }
      ]
    },
    {
      "cell_type": "markdown",
      "source": [
        "## Traitement flux_accident\n",
        "### Regression"
      ],
      "metadata": {
        "id": "yw0bttEPawz8"
      }
    },
    {
      "cell_type": "code",
      "source": [
        "accident_flux = pd.read_csv(files_path + 'Data/accident_flux.csv')\n",
        "accident_flux.head()"
      ],
      "metadata": {
        "colab": {
          "base_uri": "https://localhost:8080/",
          "height": 586
        },
        "id": "WORlRFkZa3Ye",
        "outputId": "a575c950-c3ce-404c-a073-9e377e38584f"
      },
      "execution_count": null,
      "outputs": [
        {
          "output_type": "execute_result",
          "data": {
            "text/plain": [
              "  Identifiant du compteur                   voie  \\\n",
              "0            100050132-SC  boulevardsaintgermain   \n",
              "1     100042374-110042374    voiegeorgespompidou   \n",
              "2     100042374-109042374    voiegeorgespompidou   \n",
              "3            100044506-SC      boulevardvoltaire   \n",
              "4            100044493-SC      boulevardvoltaire   \n",
              "\n",
              "   Identifiant du site de comptage            Nom du site de comptage  \\\n",
              "0                      100050132.0  243 Boulevard Saint Germain NO-SE   \n",
              "1                      100042374.0              Voie Georges Pompidou   \n",
              "2                      100042374.0              Voie Georges Pompidou   \n",
              "3                      100044506.0        72 boulevard Voltaire NO-SE   \n",
              "4                      100044493.0        67 boulevard Voltaire SE-NO   \n",
              "\n",
              "   Comptage horaire                       date  \\\n",
              "0              72.0  2019-08-31T17:00:00+00:00   \n",
              "1              85.0  2019-07-11T08:00:00+00:00   \n",
              "2             200.0  2019-07-11T08:00:00+00:00   \n",
              "3             152.0  2019-03-13T20:00:00+00:00   \n",
              "4             103.0  2019-03-13T20:00:00+00:00   \n",
              "\n",
              "  Date d'installation du site de comptage  \\\n",
              "0                              2018-12-13   \n",
              "1                              2017-12-15   \n",
              "2                              2017-12-15   \n",
              "3                              2018-06-27   \n",
              "4                              2018-06-27   \n",
              "\n",
              "                 Lien vers photo du site de comptage  \\\n",
              "0  https://www.eco-visio.net/Photos/100050132/157...   \n",
              "1  https://www.eco-visio.net/Photos/100042374/151...   \n",
              "2  https://www.eco-visio.net/Photos/100042374/151...   \n",
              "3  https://www.eco-visio.net/Photos/100044506/153...   \n",
              "4  https://www.eco-visio.net/Photos/100044493/153...   \n",
              "\n",
              "  Coordonnées géographiques id_compteur  ... vosp  prof  plan lartpc larrout  \\\n",
              "0          48.86179,2.32014         NaN  ...  0.0   1.0   1.0    NaN     NaN   \n",
              "1        48.848399,2.275932         NaN  ...  0.0   1.0   1.0    NaN     NaN   \n",
              "2        48.848399,2.275932         NaN  ...  0.0   1.0   1.0    NaN     NaN   \n",
              "3          48.86155,2.37407         NaN  ...  0.0   1.0   1.0    NaN     NaN   \n",
              "4          48.86149,2.37376         NaN  ...  0.0   1.0   1.0    NaN     NaN   \n",
              "\n",
              "  surf infra situ env1   vma  \n",
              "0  1.0   0.0  1.0  NaN  50.0  \n",
              "1  1.0   0.0  1.0  NaN  50.0  \n",
              "2  1.0   0.0  1.0  NaN  50.0  \n",
              "3  1.0   0.0  1.0  NaN  50.0  \n",
              "4  1.0   0.0  1.0  NaN  50.0  \n",
              "\n",
              "[5 rows x 66 columns]"
            ],
            "text/html": [
              "\n",
              "  <div id=\"df-d1452d9c-2f3e-4f9e-8fb7-9f4fb28e3e7b\">\n",
              "    <div class=\"colab-df-container\">\n",
              "      <div>\n",
              "<style scoped>\n",
              "    .dataframe tbody tr th:only-of-type {\n",
              "        vertical-align: middle;\n",
              "    }\n",
              "\n",
              "    .dataframe tbody tr th {\n",
              "        vertical-align: top;\n",
              "    }\n",
              "\n",
              "    .dataframe thead th {\n",
              "        text-align: right;\n",
              "    }\n",
              "</style>\n",
              "<table border=\"1\" class=\"dataframe\">\n",
              "  <thead>\n",
              "    <tr style=\"text-align: right;\">\n",
              "      <th></th>\n",
              "      <th>Identifiant du compteur</th>\n",
              "      <th>voie</th>\n",
              "      <th>Identifiant du site de comptage</th>\n",
              "      <th>Nom du site de comptage</th>\n",
              "      <th>Comptage horaire</th>\n",
              "      <th>date</th>\n",
              "      <th>Date d'installation du site de comptage</th>\n",
              "      <th>Lien vers photo du site de comptage</th>\n",
              "      <th>Coordonnées géographiques</th>\n",
              "      <th>id_compteur</th>\n",
              "      <th>...</th>\n",
              "      <th>vosp</th>\n",
              "      <th>prof</th>\n",
              "      <th>plan</th>\n",
              "      <th>lartpc</th>\n",
              "      <th>larrout</th>\n",
              "      <th>surf</th>\n",
              "      <th>infra</th>\n",
              "      <th>situ</th>\n",
              "      <th>env1</th>\n",
              "      <th>vma</th>\n",
              "    </tr>\n",
              "  </thead>\n",
              "  <tbody>\n",
              "    <tr>\n",
              "      <th>0</th>\n",
              "      <td>100050132-SC</td>\n",
              "      <td>boulevardsaintgermain</td>\n",
              "      <td>100050132.0</td>\n",
              "      <td>243 Boulevard Saint Germain NO-SE</td>\n",
              "      <td>72.0</td>\n",
              "      <td>2019-08-31T17:00:00+00:00</td>\n",
              "      <td>2018-12-13</td>\n",
              "      <td>https://www.eco-visio.net/Photos/100050132/157...</td>\n",
              "      <td>48.86179,2.32014</td>\n",
              "      <td>NaN</td>\n",
              "      <td>...</td>\n",
              "      <td>0.0</td>\n",
              "      <td>1.0</td>\n",
              "      <td>1.0</td>\n",
              "      <td>NaN</td>\n",
              "      <td>NaN</td>\n",
              "      <td>1.0</td>\n",
              "      <td>0.0</td>\n",
              "      <td>1.0</td>\n",
              "      <td>NaN</td>\n",
              "      <td>50.0</td>\n",
              "    </tr>\n",
              "    <tr>\n",
              "      <th>1</th>\n",
              "      <td>100042374-110042374</td>\n",
              "      <td>voiegeorgespompidou</td>\n",
              "      <td>100042374.0</td>\n",
              "      <td>Voie Georges Pompidou</td>\n",
              "      <td>85.0</td>\n",
              "      <td>2019-07-11T08:00:00+00:00</td>\n",
              "      <td>2017-12-15</td>\n",
              "      <td>https://www.eco-visio.net/Photos/100042374/151...</td>\n",
              "      <td>48.848399,2.275932</td>\n",
              "      <td>NaN</td>\n",
              "      <td>...</td>\n",
              "      <td>0.0</td>\n",
              "      <td>1.0</td>\n",
              "      <td>1.0</td>\n",
              "      <td>NaN</td>\n",
              "      <td>NaN</td>\n",
              "      <td>1.0</td>\n",
              "      <td>0.0</td>\n",
              "      <td>1.0</td>\n",
              "      <td>NaN</td>\n",
              "      <td>50.0</td>\n",
              "    </tr>\n",
              "    <tr>\n",
              "      <th>2</th>\n",
              "      <td>100042374-109042374</td>\n",
              "      <td>voiegeorgespompidou</td>\n",
              "      <td>100042374.0</td>\n",
              "      <td>Voie Georges Pompidou</td>\n",
              "      <td>200.0</td>\n",
              "      <td>2019-07-11T08:00:00+00:00</td>\n",
              "      <td>2017-12-15</td>\n",
              "      <td>https://www.eco-visio.net/Photos/100042374/151...</td>\n",
              "      <td>48.848399,2.275932</td>\n",
              "      <td>NaN</td>\n",
              "      <td>...</td>\n",
              "      <td>0.0</td>\n",
              "      <td>1.0</td>\n",
              "      <td>1.0</td>\n",
              "      <td>NaN</td>\n",
              "      <td>NaN</td>\n",
              "      <td>1.0</td>\n",
              "      <td>0.0</td>\n",
              "      <td>1.0</td>\n",
              "      <td>NaN</td>\n",
              "      <td>50.0</td>\n",
              "    </tr>\n",
              "    <tr>\n",
              "      <th>3</th>\n",
              "      <td>100044506-SC</td>\n",
              "      <td>boulevardvoltaire</td>\n",
              "      <td>100044506.0</td>\n",
              "      <td>72 boulevard Voltaire NO-SE</td>\n",
              "      <td>152.0</td>\n",
              "      <td>2019-03-13T20:00:00+00:00</td>\n",
              "      <td>2018-06-27</td>\n",
              "      <td>https://www.eco-visio.net/Photos/100044506/153...</td>\n",
              "      <td>48.86155,2.37407</td>\n",
              "      <td>NaN</td>\n",
              "      <td>...</td>\n",
              "      <td>0.0</td>\n",
              "      <td>1.0</td>\n",
              "      <td>1.0</td>\n",
              "      <td>NaN</td>\n",
              "      <td>NaN</td>\n",
              "      <td>1.0</td>\n",
              "      <td>0.0</td>\n",
              "      <td>1.0</td>\n",
              "      <td>NaN</td>\n",
              "      <td>50.0</td>\n",
              "    </tr>\n",
              "    <tr>\n",
              "      <th>4</th>\n",
              "      <td>100044493-SC</td>\n",
              "      <td>boulevardvoltaire</td>\n",
              "      <td>100044493.0</td>\n",
              "      <td>67 boulevard Voltaire SE-NO</td>\n",
              "      <td>103.0</td>\n",
              "      <td>2019-03-13T20:00:00+00:00</td>\n",
              "      <td>2018-06-27</td>\n",
              "      <td>https://www.eco-visio.net/Photos/100044493/153...</td>\n",
              "      <td>48.86149,2.37376</td>\n",
              "      <td>NaN</td>\n",
              "      <td>...</td>\n",
              "      <td>0.0</td>\n",
              "      <td>1.0</td>\n",
              "      <td>1.0</td>\n",
              "      <td>NaN</td>\n",
              "      <td>NaN</td>\n",
              "      <td>1.0</td>\n",
              "      <td>0.0</td>\n",
              "      <td>1.0</td>\n",
              "      <td>NaN</td>\n",
              "      <td>50.0</td>\n",
              "    </tr>\n",
              "  </tbody>\n",
              "</table>\n",
              "<p>5 rows × 66 columns</p>\n",
              "</div>\n",
              "      <button class=\"colab-df-convert\" onclick=\"convertToInteractive('df-d1452d9c-2f3e-4f9e-8fb7-9f4fb28e3e7b')\"\n",
              "              title=\"Convert this dataframe to an interactive table.\"\n",
              "              style=\"display:none;\">\n",
              "        \n",
              "  <svg xmlns=\"http://www.w3.org/2000/svg\" height=\"24px\"viewBox=\"0 0 24 24\"\n",
              "       width=\"24px\">\n",
              "    <path d=\"M0 0h24v24H0V0z\" fill=\"none\"/>\n",
              "    <path d=\"M18.56 5.44l.94 2.06.94-2.06 2.06-.94-2.06-.94-.94-2.06-.94 2.06-2.06.94zm-11 1L8.5 8.5l.94-2.06 2.06-.94-2.06-.94L8.5 2.5l-.94 2.06-2.06.94zm10 10l.94 2.06.94-2.06 2.06-.94-2.06-.94-.94-2.06-.94 2.06-2.06.94z\"/><path d=\"M17.41 7.96l-1.37-1.37c-.4-.4-.92-.59-1.43-.59-.52 0-1.04.2-1.43.59L10.3 9.45l-7.72 7.72c-.78.78-.78 2.05 0 2.83L4 21.41c.39.39.9.59 1.41.59.51 0 1.02-.2 1.41-.59l7.78-7.78 2.81-2.81c.8-.78.8-2.07 0-2.86zM5.41 20L4 18.59l7.72-7.72 1.47 1.35L5.41 20z\"/>\n",
              "  </svg>\n",
              "      </button>\n",
              "      \n",
              "  <style>\n",
              "    .colab-df-container {\n",
              "      display:flex;\n",
              "      flex-wrap:wrap;\n",
              "      gap: 12px;\n",
              "    }\n",
              "\n",
              "    .colab-df-convert {\n",
              "      background-color: #E8F0FE;\n",
              "      border: none;\n",
              "      border-radius: 50%;\n",
              "      cursor: pointer;\n",
              "      display: none;\n",
              "      fill: #1967D2;\n",
              "      height: 32px;\n",
              "      padding: 0 0 0 0;\n",
              "      width: 32px;\n",
              "    }\n",
              "\n",
              "    .colab-df-convert:hover {\n",
              "      background-color: #E2EBFA;\n",
              "      box-shadow: 0px 1px 2px rgba(60, 64, 67, 0.3), 0px 1px 3px 1px rgba(60, 64, 67, 0.15);\n",
              "      fill: #174EA6;\n",
              "    }\n",
              "\n",
              "    [theme=dark] .colab-df-convert {\n",
              "      background-color: #3B4455;\n",
              "      fill: #D2E3FC;\n",
              "    }\n",
              "\n",
              "    [theme=dark] .colab-df-convert:hover {\n",
              "      background-color: #434B5C;\n",
              "      box-shadow: 0px 1px 3px 1px rgba(0, 0, 0, 0.15);\n",
              "      filter: drop-shadow(0px 1px 2px rgba(0, 0, 0, 0.3));\n",
              "      fill: #FFFFFF;\n",
              "    }\n",
              "  </style>\n",
              "\n",
              "      <script>\n",
              "        const buttonEl =\n",
              "          document.querySelector('#df-d1452d9c-2f3e-4f9e-8fb7-9f4fb28e3e7b button.colab-df-convert');\n",
              "        buttonEl.style.display =\n",
              "          google.colab.kernel.accessAllowed ? 'block' : 'none';\n",
              "\n",
              "        async function convertToInteractive(key) {\n",
              "          const element = document.querySelector('#df-d1452d9c-2f3e-4f9e-8fb7-9f4fb28e3e7b');\n",
              "          const dataTable =\n",
              "            await google.colab.kernel.invokeFunction('convertToInteractive',\n",
              "                                                     [key], {});\n",
              "          if (!dataTable) return;\n",
              "\n",
              "          const docLinkHtml = 'Like what you see? Visit the ' +\n",
              "            '<a target=\"_blank\" href=https://colab.research.google.com/notebooks/data_table.ipynb>data table notebook</a>'\n",
              "            + ' to learn more about interactive tables.';\n",
              "          element.innerHTML = '';\n",
              "          dataTable['output_type'] = 'display_data';\n",
              "          await google.colab.output.renderOutput(dataTable, element);\n",
              "          const docLink = document.createElement('div');\n",
              "          docLink.innerHTML = docLinkHtml;\n",
              "          element.appendChild(docLink);\n",
              "        }\n",
              "      </script>\n",
              "    </div>\n",
              "  </div>\n",
              "  "
            ]
          },
          "metadata": {},
          "execution_count": 256
        }
      ]
    },
    {
      "cell_type": "markdown",
      "source": [
        "On pourrait regarder des catégories par : 'dep' (département), 'com' (commune), 'agg' (en ou hors agglomération), 'int' (type d'intersection), 'catr' (catégorie de route), 'circ' (régime de circulation - sens unique, double ...), 'vma' (limite de vitesse autorisée)."
      ],
      "metadata": {
        "id": "D6pJGOHG-3wA"
      }
    },
    {
      "cell_type": "code",
      "source": [
        "grouped_df = accident_flux.groupby(['voie', 'Comptage horaire'])['voie', 'Comptage horaire'].count()\n",
        "grouped_df"
      ],
      "metadata": {
        "colab": {
          "base_uri": "https://localhost:8080/",
          "height": 504
        },
        "id": "nENV6HFrb0ZN",
        "outputId": "5f21e384-b5da-4de2-d48a-bb2a78ed9696"
      },
      "execution_count": null,
      "outputs": [
        {
          "output_type": "stream",
          "name": "stderr",
          "text": [
            "<ipython-input-261-5f0763a060c4>:1: FutureWarning: Indexing with multiple keys (implicitly converted to a tuple of keys) will be deprecated, use a list instead.\n",
            "  grouped_df = accident_flux.groupby(['voie', 'Comptage horaire'])['voie', 'Comptage horaire'].count()\n"
          ]
        },
        {
          "output_type": "execute_result",
          "data": {
            "text/plain": [
              "                                      voie  Comptage horaire\n",
              "voie                Comptage horaire                        \n",
              "avenuedaumesnil     0.0                  1                 1\n",
              "                    49.0                 1                 1\n",
              "                    70.0                 1                 1\n",
              "                    117.0                1                 1\n",
              "                    146.0                1                 1\n",
              "...                                    ...               ...\n",
              "voiegeorgespompidou 120.0                2                 2\n",
              "                    136.0                1                 1\n",
              "                    147.0                1                 1\n",
              "                    200.0                1                 1\n",
              "                    219.0                1                 1\n",
              "\n",
              "[87 rows x 2 columns]"
            ],
            "text/html": [
              "\n",
              "  <div id=\"df-604793c4-be24-4787-8b5f-2714f2a27733\">\n",
              "    <div class=\"colab-df-container\">\n",
              "      <div>\n",
              "<style scoped>\n",
              "    .dataframe tbody tr th:only-of-type {\n",
              "        vertical-align: middle;\n",
              "    }\n",
              "\n",
              "    .dataframe tbody tr th {\n",
              "        vertical-align: top;\n",
              "    }\n",
              "\n",
              "    .dataframe thead th {\n",
              "        text-align: right;\n",
              "    }\n",
              "</style>\n",
              "<table border=\"1\" class=\"dataframe\">\n",
              "  <thead>\n",
              "    <tr style=\"text-align: right;\">\n",
              "      <th></th>\n",
              "      <th></th>\n",
              "      <th>voie</th>\n",
              "      <th>Comptage horaire</th>\n",
              "    </tr>\n",
              "    <tr>\n",
              "      <th>voie</th>\n",
              "      <th>Comptage horaire</th>\n",
              "      <th></th>\n",
              "      <th></th>\n",
              "    </tr>\n",
              "  </thead>\n",
              "  <tbody>\n",
              "    <tr>\n",
              "      <th rowspan=\"5\" valign=\"top\">avenuedaumesnil</th>\n",
              "      <th>0.0</th>\n",
              "      <td>1</td>\n",
              "      <td>1</td>\n",
              "    </tr>\n",
              "    <tr>\n",
              "      <th>49.0</th>\n",
              "      <td>1</td>\n",
              "      <td>1</td>\n",
              "    </tr>\n",
              "    <tr>\n",
              "      <th>70.0</th>\n",
              "      <td>1</td>\n",
              "      <td>1</td>\n",
              "    </tr>\n",
              "    <tr>\n",
              "      <th>117.0</th>\n",
              "      <td>1</td>\n",
              "      <td>1</td>\n",
              "    </tr>\n",
              "    <tr>\n",
              "      <th>146.0</th>\n",
              "      <td>1</td>\n",
              "      <td>1</td>\n",
              "    </tr>\n",
              "    <tr>\n",
              "      <th>...</th>\n",
              "      <th>...</th>\n",
              "      <td>...</td>\n",
              "      <td>...</td>\n",
              "    </tr>\n",
              "    <tr>\n",
              "      <th rowspan=\"5\" valign=\"top\">voiegeorgespompidou</th>\n",
              "      <th>120.0</th>\n",
              "      <td>2</td>\n",
              "      <td>2</td>\n",
              "    </tr>\n",
              "    <tr>\n",
              "      <th>136.0</th>\n",
              "      <td>1</td>\n",
              "      <td>1</td>\n",
              "    </tr>\n",
              "    <tr>\n",
              "      <th>147.0</th>\n",
              "      <td>1</td>\n",
              "      <td>1</td>\n",
              "    </tr>\n",
              "    <tr>\n",
              "      <th>200.0</th>\n",
              "      <td>1</td>\n",
              "      <td>1</td>\n",
              "    </tr>\n",
              "    <tr>\n",
              "      <th>219.0</th>\n",
              "      <td>1</td>\n",
              "      <td>1</td>\n",
              "    </tr>\n",
              "  </tbody>\n",
              "</table>\n",
              "<p>87 rows × 2 columns</p>\n",
              "</div>\n",
              "      <button class=\"colab-df-convert\" onclick=\"convertToInteractive('df-604793c4-be24-4787-8b5f-2714f2a27733')\"\n",
              "              title=\"Convert this dataframe to an interactive table.\"\n",
              "              style=\"display:none;\">\n",
              "        \n",
              "  <svg xmlns=\"http://www.w3.org/2000/svg\" height=\"24px\"viewBox=\"0 0 24 24\"\n",
              "       width=\"24px\">\n",
              "    <path d=\"M0 0h24v24H0V0z\" fill=\"none\"/>\n",
              "    <path d=\"M18.56 5.44l.94 2.06.94-2.06 2.06-.94-2.06-.94-.94-2.06-.94 2.06-2.06.94zm-11 1L8.5 8.5l.94-2.06 2.06-.94-2.06-.94L8.5 2.5l-.94 2.06-2.06.94zm10 10l.94 2.06.94-2.06 2.06-.94-2.06-.94-.94-2.06-.94 2.06-2.06.94z\"/><path d=\"M17.41 7.96l-1.37-1.37c-.4-.4-.92-.59-1.43-.59-.52 0-1.04.2-1.43.59L10.3 9.45l-7.72 7.72c-.78.78-.78 2.05 0 2.83L4 21.41c.39.39.9.59 1.41.59.51 0 1.02-.2 1.41-.59l7.78-7.78 2.81-2.81c.8-.78.8-2.07 0-2.86zM5.41 20L4 18.59l7.72-7.72 1.47 1.35L5.41 20z\"/>\n",
              "  </svg>\n",
              "      </button>\n",
              "      \n",
              "  <style>\n",
              "    .colab-df-container {\n",
              "      display:flex;\n",
              "      flex-wrap:wrap;\n",
              "      gap: 12px;\n",
              "    }\n",
              "\n",
              "    .colab-df-convert {\n",
              "      background-color: #E8F0FE;\n",
              "      border: none;\n",
              "      border-radius: 50%;\n",
              "      cursor: pointer;\n",
              "      display: none;\n",
              "      fill: #1967D2;\n",
              "      height: 32px;\n",
              "      padding: 0 0 0 0;\n",
              "      width: 32px;\n",
              "    }\n",
              "\n",
              "    .colab-df-convert:hover {\n",
              "      background-color: #E2EBFA;\n",
              "      box-shadow: 0px 1px 2px rgba(60, 64, 67, 0.3), 0px 1px 3px 1px rgba(60, 64, 67, 0.15);\n",
              "      fill: #174EA6;\n",
              "    }\n",
              "\n",
              "    [theme=dark] .colab-df-convert {\n",
              "      background-color: #3B4455;\n",
              "      fill: #D2E3FC;\n",
              "    }\n",
              "\n",
              "    [theme=dark] .colab-df-convert:hover {\n",
              "      background-color: #434B5C;\n",
              "      box-shadow: 0px 1px 3px 1px rgba(0, 0, 0, 0.15);\n",
              "      filter: drop-shadow(0px 1px 2px rgba(0, 0, 0, 0.3));\n",
              "      fill: #FFFFFF;\n",
              "    }\n",
              "  </style>\n",
              "\n",
              "      <script>\n",
              "        const buttonEl =\n",
              "          document.querySelector('#df-604793c4-be24-4787-8b5f-2714f2a27733 button.colab-df-convert');\n",
              "        buttonEl.style.display =\n",
              "          google.colab.kernel.accessAllowed ? 'block' : 'none';\n",
              "\n",
              "        async function convertToInteractive(key) {\n",
              "          const element = document.querySelector('#df-604793c4-be24-4787-8b5f-2714f2a27733');\n",
              "          const dataTable =\n",
              "            await google.colab.kernel.invokeFunction('convertToInteractive',\n",
              "                                                     [key], {});\n",
              "          if (!dataTable) return;\n",
              "\n",
              "          const docLinkHtml = 'Like what you see? Visit the ' +\n",
              "            '<a target=\"_blank\" href=https://colab.research.google.com/notebooks/data_table.ipynb>data table notebook</a>'\n",
              "            + ' to learn more about interactive tables.';\n",
              "          element.innerHTML = '';\n",
              "          dataTable['output_type'] = 'display_data';\n",
              "          await google.colab.output.renderOutput(dataTable, element);\n",
              "          const docLink = document.createElement('div');\n",
              "          docLink.innerHTML = docLinkHtml;\n",
              "          element.appendChild(docLink);\n",
              "        }\n",
              "      </script>\n",
              "    </div>\n",
              "  </div>\n",
              "  "
            ]
          },
          "metadata": {},
          "execution_count": 261
        }
      ]
    },
    {
      "cell_type": "code",
      "source": [],
      "metadata": {
        "id": "3AKIs64tcTmh"
      },
      "execution_count": null,
      "outputs": []
    }
  ]
}