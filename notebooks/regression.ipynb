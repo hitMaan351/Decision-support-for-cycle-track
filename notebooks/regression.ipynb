{
 "cells": [
  {
   "cell_type": "code",
   "execution_count": 1,
   "metadata": {},
   "outputs": [],
   "source": [
    "import pandas as pd\n",
    "import numpy as np\n",
    "import math"
   ]
  },
  {
   "cell_type": "code",
   "execution_count": 3,
   "metadata": {},
   "outputs": [
    {
     "data": {
      "text/html": [
       "<div>\n",
       "<style scoped>\n",
       "    .dataframe tbody tr th:only-of-type {\n",
       "        vertical-align: middle;\n",
       "    }\n",
       "\n",
       "    .dataframe tbody tr th {\n",
       "        vertical-align: top;\n",
       "    }\n",
       "\n",
       "    .dataframe thead th {\n",
       "        text-align: right;\n",
       "    }\n",
       "</style>\n",
       "<table border=\"1\" class=\"dataframe\">\n",
       "  <thead>\n",
       "    <tr style=\"text-align: right;\">\n",
       "      <th></th>\n",
       "      <th>voie</th>\n",
       "      <th>date</th>\n",
       "      <th>n_accidents</th>\n",
       "      <th>flux</th>\n",
       "      <th>categorie</th>\n",
       "    </tr>\n",
       "  </thead>\n",
       "  <tbody>\n",
       "    <tr>\n",
       "      <th>0</th>\n",
       "      <td>avenuedaumesnil</td>\n",
       "      <td>2019-01</td>\n",
       "      <td>1.0</td>\n",
       "      <td>27243.0</td>\n",
       "      <td>VOIE SECURISEE</td>\n",
       "    </tr>\n",
       "    <tr>\n",
       "      <th>1</th>\n",
       "      <td>avenuedaumesnil</td>\n",
       "      <td>2019-02</td>\n",
       "      <td>0.0</td>\n",
       "      <td>29996.0</td>\n",
       "      <td>VOIE SECURISEE</td>\n",
       "    </tr>\n",
       "    <tr>\n",
       "      <th>2</th>\n",
       "      <td>avenuedaumesnil</td>\n",
       "      <td>2019-03</td>\n",
       "      <td>0.0</td>\n",
       "      <td>32998.0</td>\n",
       "      <td>VOIE SECURISEE</td>\n",
       "    </tr>\n",
       "    <tr>\n",
       "      <th>3</th>\n",
       "      <td>avenuedaumesnil</td>\n",
       "      <td>2019-04</td>\n",
       "      <td>1.0</td>\n",
       "      <td>37451.0</td>\n",
       "      <td>VOIE SECURISEE</td>\n",
       "    </tr>\n",
       "    <tr>\n",
       "      <th>4</th>\n",
       "      <td>avenuedaumesnil</td>\n",
       "      <td>2019-05</td>\n",
       "      <td>0.0</td>\n",
       "      <td>36827.0</td>\n",
       "      <td>VOIE SECURISEE</td>\n",
       "    </tr>\n",
       "    <tr>\n",
       "      <th>...</th>\n",
       "      <td>...</td>\n",
       "      <td>...</td>\n",
       "      <td>...</td>\n",
       "      <td>...</td>\n",
       "      <td>...</td>\n",
       "    </tr>\n",
       "    <tr>\n",
       "      <th>480</th>\n",
       "      <td>voiegeorgespompidou</td>\n",
       "      <td>2021-08</td>\n",
       "      <td>0.0</td>\n",
       "      <td>58728.0</td>\n",
       "      <td>MOINS SECURISEE</td>\n",
       "    </tr>\n",
       "    <tr>\n",
       "      <th>481</th>\n",
       "      <td>voiegeorgespompidou</td>\n",
       "      <td>2021-09</td>\n",
       "      <td>0.0</td>\n",
       "      <td>111075.0</td>\n",
       "      <td>MOINS SECURISEE</td>\n",
       "    </tr>\n",
       "    <tr>\n",
       "      <th>482</th>\n",
       "      <td>voiegeorgespompidou</td>\n",
       "      <td>2021-10</td>\n",
       "      <td>0.0</td>\n",
       "      <td>94710.0</td>\n",
       "      <td>MOINS SECURISEE</td>\n",
       "    </tr>\n",
       "    <tr>\n",
       "      <th>483</th>\n",
       "      <td>voiegeorgespompidou</td>\n",
       "      <td>2021-11</td>\n",
       "      <td>0.0</td>\n",
       "      <td>74473.0</td>\n",
       "      <td>MOINS SECURISEE</td>\n",
       "    </tr>\n",
       "    <tr>\n",
       "      <th>484</th>\n",
       "      <td>voiegeorgespompidou</td>\n",
       "      <td>2021-12</td>\n",
       "      <td>2.0</td>\n",
       "      <td>52556.0</td>\n",
       "      <td>MOINS SECURISEE</td>\n",
       "    </tr>\n",
       "  </tbody>\n",
       "</table>\n",
       "<p>485 rows × 5 columns</p>\n",
       "</div>"
      ],
      "text/plain": [
       "                    voie     date  n_accidents      flux        categorie\n",
       "0        avenuedaumesnil  2019-01          1.0   27243.0   VOIE SECURISEE\n",
       "1        avenuedaumesnil  2019-02          0.0   29996.0   VOIE SECURISEE\n",
       "2        avenuedaumesnil  2019-03          0.0   32998.0   VOIE SECURISEE\n",
       "3        avenuedaumesnil  2019-04          1.0   37451.0   VOIE SECURISEE\n",
       "4        avenuedaumesnil  2019-05          0.0   36827.0   VOIE SECURISEE\n",
       "..                   ...      ...          ...       ...              ...\n",
       "480  voiegeorgespompidou  2021-08          0.0   58728.0  MOINS SECURISEE\n",
       "481  voiegeorgespompidou  2021-09          0.0  111075.0  MOINS SECURISEE\n",
       "482  voiegeorgespompidou  2021-10          0.0   94710.0  MOINS SECURISEE\n",
       "483  voiegeorgespompidou  2021-11          0.0   74473.0  MOINS SECURISEE\n",
       "484  voiegeorgespompidou  2021-12          2.0   52556.0  MOINS SECURISEE\n",
       "\n",
       "[485 rows x 5 columns]"
      ]
     },
     "execution_count": 3,
     "metadata": {},
     "output_type": "execute_result"
    }
   ],
   "source": [
    "df = pd.read_csv(\".\\\\..\\dataset\\\\accidents_date_voie_flux_cat.csv\", sep = \",\")\n",
    "df"
   ]
  },
  {
   "cell_type": "code",
   "execution_count": 7,
   "metadata": {},
   "outputs": [],
   "source": [
    "df_secu = df[df['categorie'] == \"VOIE SECURISEE\"]\n",
    "df_moins_secu = df[df['categorie'] == \"MOINS SECURISEE\"]\n",
    "df_aucun = df[df['categorie'] == \"AUCUN\"]\n"
   ]
  },
  {
   "cell_type": "code",
   "execution_count": null,
   "metadata": {},
   "outputs": [],
   "source": []
  },
  {
   "cell_type": "code",
   "execution_count": 11,
   "metadata": {},
   "outputs": [
    {
     "data": {
      "text/plain": [
       "<matplotlib.collections.PathCollection at 0x1bc4d9ed2b0>"
      ]
     },
     "execution_count": 11,
     "metadata": {},
     "output_type": "execute_result"
    },
    {
     "data": {
      "image/png": "[encoded data removed]",
      "text/plain": [
       "<Figure size 640x480 with 1 Axes>"
      ]
     },
     "metadata": {},
     "output_type": "display_data"
    }
   ],
   "source": [
    "import matplotlib.pyplot as plt \n",
    "plt.scatter(np.array(df_secu.flux), np.array(df_secu.n_accidents))"
   ]
  },
  {
   "cell_type": "code",
   "execution_count": 9,
   "metadata": {},
   "outputs": [
    {
     "data": {
      "text/plain": [
       "<matplotlib.collections.PathCollection at 0x1bc4d8e46a0>"
      ]
     },
     "execution_count": 9,
     "metadata": {},
     "output_type": "execute_result"
    },
    {
     "data": {
      "image/png": "[encoded data removed]",
      "text/plain": [
       "<Figure size 640x480 with 1 Axes>"
      ]
     },
     "metadata": {},
     "output_type": "display_data"
    }
   ],
   "source": [
    "plt.scatter(np.array(df_moins_secu.flux), np.array(df_moins_secu.n_accidents))\n"
   ]
  },
  {
   "cell_type": "code",
   "execution_count": 10,
   "metadata": {},
   "outputs": [
    {
     "data": {
      "text/plain": [
       "<matplotlib.collections.PathCollection at 0x1bc4d966490>"
      ]
     },
     "execution_count": 10,
     "metadata": {},
     "output_type": "execute_result"
    },
    {
     "data": {
      "image/png": "[encoded data removed]",
      "text/plain": [
       "<Figure size 640x480 with 1 Axes>"
      ]
     },
     "metadata": {},
     "output_type": "display_data"
    }
   ],
   "source": [
    "plt.scatter(np.array(df_aucun.flux), np.array(df_aucun.n_accidents))\n"
   ]
  },
  {
   "cell_type": "code",
   "execution_count": null,
   "metadata": {},
   "outputs": [],
   "source": []
  }
 ],
 "metadata": {
  "kernelspec": {
   "display_name": "Python 3",
   "language": "python",
   "name": "python3"
  },
  "language_info": {
   "codemirror_mode": {
    "name": "ipython",
    "version": 3
   },
   "file_extension": ".py",
   "mimetype": "text/x-python",
   "name": "python",
   "nbconvert_exporter": "python",
   "pygments_lexer": "ipython3",
   "version": "3.9.7"
  },
  "orig_nbformat": 4,
  "vscode": {
   "interpreter": {
    "hash": "d8d4f25c2d3f6bca8aa7bcbfbe4444a224dbae01d9252b76d1cb37ffc52af79f"
   }
  }
 },
 "nbformat": 4,
 "nbformat_minor": 2
}
