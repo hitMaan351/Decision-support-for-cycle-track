{
 "cells": [
  {
   "cell_type": "code",
   "execution_count": 29,
   "metadata": {},
   "outputs": [],
   "source": [
    "import pandas as pd\n",
    "import numpy as np\n",
    "import matplotlib.pyplot as plt\n",
    "import xgboost as xg\n",
    "from sklearn.metrics import mean_squared_error as MSE\n",
    "from statsmodels.tsa.arima.model import ARIMA"
   ]
  },
  {
   "cell_type": "code",
   "execution_count": 30,
   "metadata": {},
   "outputs": [],
   "source": [
    "df_flux = pd.read_csv(\"data\\input\\\\traindata.csv\", sep = \",\")\n",
    "df_flux = df_flux.drop(\"Unnamed: 0\", axis = 1)"
   ]
  },
  {
   "cell_type": "code",
   "execution_count": 31,
   "metadata": {},
   "outputs": [
    {
     "data": {
      "text/plain": [
       "0                           Voie Georges Pompidou\n",
       "1               97 Avenue Denfert Rochereau SO-NE\n",
       "2                        39 Quai François Mauriac\n",
       "3              106 Avenue Denfert Rochereau NE-SO\n",
       "4                      135 Avenue Daumesnil SE-NO\n",
       "                          ...                    \n",
       "3160                           Quai des Tuileries\n",
       "3161                         254 rue de Vaugirard\n",
       "3162                         30 rue Saint Jacques\n",
       "3163             16 avenue de la Porte des Ternes\n",
       "3164    Face au 16 avenue de la  Porte des Ternes\n",
       "Name: name, Length: 3165, dtype: object"
      ]
     },
     "execution_count": 31,
     "metadata": {},
     "output_type": "execute_result"
    }
   ],
   "source": [
    "## enlever 2023\n",
    "\n",
    "df_flux = df_flux.drop(df_flux.index[df_flux[\"mois_annee_comptage\"]== \"2023-01-01\"], axis = 0)\n",
    "\n",
    "df_flux.name\n"
   ]
  },
  {
   "cell_type": "code",
   "execution_count": 126,
   "metadata": {},
   "outputs": [
    {
     "data": {
      "text/html": [
       "<div>\n",
       "<style scoped>\n",
       "    .dataframe tbody tr th:only-of-type {\n",
       "        vertical-align: middle;\n",
       "    }\n",
       "\n",
       "    .dataframe tbody tr th {\n",
       "        vertical-align: top;\n",
       "    }\n",
       "\n",
       "    .dataframe thead th {\n",
       "        text-align: right;\n",
       "    }\n",
       "</style>\n",
       "<table border=\"1\" class=\"dataframe\">\n",
       "  <thead>\n",
       "    <tr style=\"text-align: right;\">\n",
       "      <th></th>\n",
       "      <th>name</th>\n",
       "      <th>mois_annee_comptage</th>\n",
       "      <th>sum_counts</th>\n",
       "    </tr>\n",
       "    <tr>\n",
       "      <th>mois_annee_comptage</th>\n",
       "      <th></th>\n",
       "      <th></th>\n",
       "      <th></th>\n",
       "    </tr>\n",
       "  </thead>\n",
       "  <tbody>\n",
       "    <tr>\n",
       "      <th>2018-01</th>\n",
       "      <td>Voie Georges Pompidou</td>\n",
       "      <td>2018-01</td>\n",
       "      <td>6075.0</td>\n",
       "    </tr>\n",
       "    <tr>\n",
       "      <th>2018-02</th>\n",
       "      <td>Voie Georges Pompidou</td>\n",
       "      <td>2018-02</td>\n",
       "      <td>2275.0</td>\n",
       "    </tr>\n",
       "    <tr>\n",
       "      <th>2018-03</th>\n",
       "      <td>Voie Georges Pompidou</td>\n",
       "      <td>2018-03</td>\n",
       "      <td>17421.0</td>\n",
       "    </tr>\n",
       "    <tr>\n",
       "      <th>2018-04</th>\n",
       "      <td>Voie Georges Pompidou</td>\n",
       "      <td>2018-04</td>\n",
       "      <td>29823.0</td>\n",
       "    </tr>\n",
       "    <tr>\n",
       "      <th>2018-05</th>\n",
       "      <td>Voie Georges Pompidou</td>\n",
       "      <td>2018-05</td>\n",
       "      <td>35926.0</td>\n",
       "    </tr>\n",
       "    <tr>\n",
       "      <th>...</th>\n",
       "      <td>...</td>\n",
       "      <td>...</td>\n",
       "      <td>...</td>\n",
       "    </tr>\n",
       "    <tr>\n",
       "      <th>2022-08</th>\n",
       "      <td>Voie Georges Pompidou</td>\n",
       "      <td>2022-08</td>\n",
       "      <td>68338.0</td>\n",
       "    </tr>\n",
       "    <tr>\n",
       "      <th>2022-09</th>\n",
       "      <td>Voie Georges Pompidou</td>\n",
       "      <td>2022-09</td>\n",
       "      <td>108777.0</td>\n",
       "    </tr>\n",
       "    <tr>\n",
       "      <th>2022-10</th>\n",
       "      <td>Voie Georges Pompidou</td>\n",
       "      <td>2022-10</td>\n",
       "      <td>104891.0</td>\n",
       "    </tr>\n",
       "    <tr>\n",
       "      <th>2022-11</th>\n",
       "      <td>Voie Georges Pompidou</td>\n",
       "      <td>2022-11</td>\n",
       "      <td>88354.0</td>\n",
       "    </tr>\n",
       "    <tr>\n",
       "      <th>2022-12</th>\n",
       "      <td>Voie Georges Pompidou</td>\n",
       "      <td>2022-12</td>\n",
       "      <td>53005.0</td>\n",
       "    </tr>\n",
       "  </tbody>\n",
       "</table>\n",
       "<p>61 rows × 3 columns</p>\n",
       "</div>"
      ],
      "text/plain": [
       "                                      name mois_annee_comptage  sum_counts\n",
       "mois_annee_comptage                                                       \n",
       "2018-01              Voie Georges Pompidou             2018-01      6075.0\n",
       "2018-02              Voie Georges Pompidou             2018-02      2275.0\n",
       "2018-03              Voie Georges Pompidou             2018-03     17421.0\n",
       "2018-04              Voie Georges Pompidou             2018-04     29823.0\n",
       "2018-05              Voie Georges Pompidou             2018-05     35926.0\n",
       "...                                    ...                 ...         ...\n",
       "2022-08              Voie Georges Pompidou             2022-08     68338.0\n",
       "2022-09              Voie Georges Pompidou             2022-09    108777.0\n",
       "2022-10              Voie Georges Pompidou             2022-10    104891.0\n",
       "2022-11              Voie Georges Pompidou             2022-11     88354.0\n",
       "2022-12              Voie Georges Pompidou             2022-12     53005.0\n",
       "\n",
       "[61 rows x 3 columns]"
      ]
     },
     "execution_count": 126,
     "metadata": {},
     "output_type": "execute_result"
    }
   ],
   "source": [
    "df_exemple = df_flux[df_flux[\"name\"] == \"Voie Georges Pompidou\"]\n",
    "df_exemple[\"mois_annee_comptage\"] = df_exemple[\"mois_annee_comptage\"].apply(lambda x: x[:-3])\n",
    "df_exemple.index = df_exemple[\"mois_annee_comptage\"]\n",
    "# df_exemple = df_exemple.drop([\"mois_annee_comptage\", \"name\"], axis = 1)\n",
    "df_exemple"
   ]
  },
  {
   "cell_type": "code",
   "execution_count": 127,
   "metadata": {},
   "outputs": [],
   "source": [
    "def get_train_test(pd_data):\n",
    "\n",
    "    train_size = int(len(pd_data) * 0.90)\n",
    "    train, test = pd_data['sum_counts'][0:train_size], pd_data['sum_counts'][train_size:]\n",
    "\n",
    "    return test, train"
   ]
  },
  {
   "cell_type": "code",
   "execution_count": 128,
   "metadata": {},
   "outputs": [],
   "source": [
    "def pred_nombre_velos(y_train, y_test):\n",
    "    ARIMAmodel = ARIMA(y_train, order = (12, 2, 2))\n",
    "    ARIMAmodel.initialize_approximate_diffuse()\n",
    "    ARIMAmodel = ARIMAmodel.fit()\n",
    "\n",
    "    y_pred = ARIMAmodel.predict(start=len(y_train), end=len(y_test) + len(y_train)-1)\n",
    "\n",
    "    return y_pred\n",
    "\n",
    "def pred_nombre_velos_full(y_train, y_test):\n",
    "    ARIMAmodel = ARIMA(y_train, order = (12, 2, 2))\n",
    "    ARIMAmodel.initialize_approximate_diffuse()\n",
    "    ARIMAmodel = ARIMAmodel.fit()\n",
    "\n",
    "    y_pred = ARIMAmodel.predict(start=0, end=len(y_test) + len(y_train)-1)\n",
    "\n",
    "    return y_pred\n"
   ]
  },
  {
   "cell_type": "code",
   "execution_count": 129,
   "metadata": {},
   "outputs": [
    {
     "name": "stdout",
     "output_type": "stream",
     "text": [
      "mois_annee_comptage\n",
      "2022-06    101642.0\n",
      "2022-07     89881.0\n",
      "2022-08     68338.0\n",
      "2022-09    108777.0\n",
      "2022-10    104891.0\n",
      "2022-11     88354.0\n",
      "2022-12     53005.0\n",
      "Name: sum_counts, dtype: float64 mois_annee_comptage\n",
      "2018-01      6075.0\n",
      "2018-02      2275.0\n",
      "2018-03     17421.0\n",
      "2018-04     29823.0\n",
      "2018-05     35926.0\n",
      "2018-06     38182.0\n",
      "2018-07     40025.0\n",
      "2018-08     27805.0\n",
      "2018-09     52874.0\n",
      "2018-10     47932.0\n",
      "2018-11     32934.0\n",
      "2018-12     24322.0\n",
      "2019-01     27070.0\n",
      "2019-02     34596.0\n",
      "2019-03     37690.0\n",
      "2019-04     45205.0\n",
      "2019-05     49055.0\n",
      "2019-06     54539.0\n",
      "2019-07     64212.0\n",
      "2019-08     47101.0\n",
      "2019-09     76327.0\n",
      "2019-10     55064.0\n",
      "2019-11     43820.0\n",
      "2019-12    106333.0\n",
      "2020-01     95131.0\n",
      "2020-02     48632.0\n",
      "2020-03     29175.0\n",
      "2020-04     15507.0\n",
      "2020-05     83319.0\n",
      "2020-06    117069.0\n",
      "2020-07    116403.0\n",
      "2020-08     70371.0\n",
      "2020-09    126806.0\n",
      "2020-10     85491.0\n",
      "2020-11     61751.0\n",
      "2020-12     51042.0\n",
      "2021-01     55642.0\n",
      "2021-02     34601.0\n",
      "2021-03     31823.0\n",
      "2021-04     71717.0\n",
      "2021-05     70934.0\n",
      "2021-06     96856.0\n",
      "2021-07     79833.0\n",
      "2021-08     58728.0\n",
      "2021-09    111075.0\n",
      "2021-10     94710.0\n",
      "2021-11     74473.0\n",
      "2021-12     52547.0\n",
      "2021-12     52565.0\n",
      "2022-01     57843.0\n",
      "2022-02     65252.0\n",
      "2022-03     86102.0\n",
      "2022-04     80793.0\n",
      "2022-05     99036.0\n",
      "Name: sum_counts, dtype: float64\n",
      "54    88345.768653\n",
      "55    78380.205524\n",
      "56    97771.059379\n",
      "57    85915.159230\n",
      "58    77606.691407\n",
      "59    66137.270529\n",
      "60    74069.944840\n",
      "Name: predicted_mean, dtype: float64\n",
      "0         0.000000\n",
      "1      8814.780403\n",
      "2      6625.385874\n",
      "3     18336.530003\n",
      "4     26401.161422\n",
      "          ...     \n",
      "56    97771.059379\n",
      "57    85915.159230\n",
      "58    77606.691407\n",
      "59    66137.270529\n",
      "60    74069.944840\n",
      "Name: predicted_mean, Length: 61, dtype: float64\n"
     ]
    }
   ],
   "source": [
    "y_test, y_train = get_train_test(df_exemple)\n",
    "\n",
    "print(y_test, y_train)\n",
    "\n",
    "predictions= pred_nombre_velos(y_train, y_test)\n",
    "predictions_full = pred_nombre_velos_full(y_train, y_test)\n",
    "\n",
    "\n",
    "print(predictions)\n",
    "\n",
    "print(predictions_full)\n",
    "\n"
   ]
  },
  {
   "attachments": {},
   "cell_type": "markdown",
   "metadata": {},
   "source": [
    "# Visualisation des prédictions"
   ]
  },
  {
   "cell_type": "code",
   "execution_count": 77,
   "metadata": {},
   "outputs": [
    {
     "data": {
      "text/plain": [
       "['2022-06-01', Timestamp('2022-07-01 00:00:00', freq='MS')]"
      ]
     },
     "execution_count": 77,
     "metadata": {},
     "output_type": "execute_result"
    }
   ],
   "source": [
    "[y_train.index[-1]] + list(predictions.index)"
   ]
  },
  {
   "cell_type": "code",
   "execution_count": 130,
   "metadata": {},
   "outputs": [
    {
     "data": {
      "text/plain": [
       "Text(0, 0.5, 'Nb de vélos')"
      ]
     },
     "execution_count": 130,
     "metadata": {},
     "output_type": "execute_result"
    },
    {
     "data": {
      "image/png": "[encoded data removed]",
      "text/plain": [
       "<Figure size 640x480 with 1 Axes>"
      ]
     },
     "metadata": {},
     "output_type": "display_data"
    }
   ],
   "source": [
    "fig= plt.figure()\n",
    "ax = fig.add_subplot(111)\n",
    "\n",
    "ax.plot(y_train.index, y_train.values, label = 'History')\n",
    "ax.plot([y_train.index[-1]] + list(y_test.index), [y_train.values[-1]] + list(y_test.values), label = 'Reality')\n",
    "ax.plot([y_train.index[-1]] + list(y_test.index), [y_train.values[-1]] + list(predictions.values), color='Green', label = 'Predictions')\n",
    "# plt.plot(df_exemple[\"mois_annee_comptage\"],  list(predictions_full), color='Red', label = 'ARIMA Predictions')\n",
    "\n",
    "plt.title('Prédiction du flux mensuel de vélo - Voie Georges Pompidou')\n",
    "ax.legend()\n",
    "\n",
    "xticks =np.array(df_exemple.index)[np.round(np.linspace(0, len(y_train) + len(y_test) - 1, 7)).astype(int)]\n",
    "ax.set_xticks(xticks)\n",
    "\n",
    "plt.xlabel('Mois')\n",
    "plt.ylabel('Nb de vélos')\n"
   ]
  },
  {
   "attachments": {},
   "cell_type": "markdown",
   "metadata": {},
   "source": [
    "# Tuning Parameters"
   ]
  },
  {
   "cell_type": "code",
   "execution_count": 12,
   "metadata": {},
   "outputs": [
    {
     "name": "stderr",
     "output_type": "stream",
     "text": [
      "C:\\Users\\guilh\\AppData\\Local\\Temp\\ipykernel_18164\\526722019.py:4: FutureWarning: The pandas.datetime class is deprecated and will be removed from pandas in a future version. Import from datetime module instead.\n",
      "  from pandas import datetime\n"
     ]
    }
   ],
   "source": [
    "import warnings\n",
    "from math import sqrt\n",
    "from pandas import read_csv\n",
    "from pandas import datetime\n",
    "from statsmodels.tsa.arima.model import ARIMA\n",
    "from sklearn.metrics import mean_squared_error"
   ]
  },
  {
   "cell_type": "code",
   "execution_count": 8,
   "metadata": {},
   "outputs": [],
   "source": [
    "def evaluate_arima_model(X, arima_order):\n",
    "    # prepare training dataset\n",
    "    train_size = int(len(X) * 0.90)\n",
    "    train, test = X[0:train_size], X[train_size:]\n",
    "    history = [x for x in train]\n",
    "    # make predictions\n",
    "    predictions = list()\n",
    "    for t in range(len(test)):\n",
    "        model = ARIMA(history, order=arima_order)\n",
    "        model_fit = model.fit()\n",
    "        yhat = model_fit.forecast()[0]\n",
    "        predictions.append(yhat)\n",
    "        history.append(test[t])\n",
    "    # calculate out of sample error\n",
    "    error = mean_squared_error(test, predictions)\n",
    "    return error"
   ]
  },
  {
   "cell_type": "code",
   "execution_count": 9,
   "metadata": {},
   "outputs": [],
   "source": [
    "# evaluate combinations of p, d and q values for an ARIMA model\n",
    "def evaluate_models(dataset, p_values, d_values, q_values):\n",
    "    dataset = dataset.astype('float32')\n",
    "    best_score, best_cfg = float(\"inf\"), None\n",
    "    for p in p_values:\n",
    "        for d in d_values:\n",
    "            for q in q_values:\n",
    "                order = (p,d,q)\n",
    "                try:\n",
    "                    mse = evaluate_arima_model(dataset, order)\n",
    "                    if mse < best_score:\n",
    "                        best_score, best_cfg = mse, order\n",
    "                    print('ARIMA%s MSE=%.3f' % (order,mse))\n",
    "                except:\n",
    "                    continue\n",
    "    print('Best ARIMA%s MSE=%.3f' % (best_cfg, best_score))"
   ]
  },
  {
   "cell_type": "code",
   "execution_count": 28,
   "metadata": {},
   "outputs": [
    {
     "name": "stdout",
     "output_type": "stream",
     "text": [
      "ARIMA(10, 2, 2) RMSE=609382870.078\n",
      "ARIMA(10, 2, 3) RMSE=1250148698.832\n",
      "ARIMA(10, 2, 4) RMSE=1978685374.438\n",
      "ARIMA(10, 2, 5) RMSE=4059410337.284\n",
      "ARIMA(10, 3, 2) RMSE=1891000462.432\n",
      "ARIMA(10, 3, 3) RMSE=2543271863.337\n",
      "ARIMA(10, 3, 4) RMSE=1758490524.614\n",
      "ARIMA(10, 3, 5) RMSE=37270919600743.969\n",
      "ARIMA(10, 4, 2) RMSE=1480531055.197\n",
      "ARIMA(10, 4, 3) RMSE=1700571551.354\n",
      "ARIMA(10, 4, 4) RMSE=2445473475.816\n",
      "ARIMA(10, 4, 5) RMSE=1181271118.256\n",
      "ARIMA(10, 5, 2) RMSE=1117591747.328\n",
      "ARIMA(10, 5, 3) RMSE=906987938.112\n",
      "ARIMA(10, 5, 4) RMSE=1769815039.688\n",
      "ARIMA(10, 5, 5) RMSE=67802612948931780608.000\n",
      "ARIMA(12, 2, 2) RMSE=343600004.670\n",
      "ARIMA(12, 2, 3) RMSE=561917773.564\n",
      "ARIMA(12, 2, 4) RMSE=771940133.303\n",
      "ARIMA(12, 3, 2) RMSE=614143374.376\n",
      "ARIMA(12, 3, 3) RMSE=726306929.936\n",
      "ARIMA(12, 3, 4) RMSE=1472964479.972\n",
      "ARIMA(12, 3, 5) RMSE=37268815359721.391\n",
      "ARIMA(12, 4, 2) RMSE=1653173295.632\n",
      "ARIMA(12, 4, 3) RMSE=2692260449.199\n",
      "ARIMA(12, 4, 4) RMSE=2595543587.740\n",
      "ARIMA(12, 4, 5) RMSE=1403714510.813\n",
      "ARIMA(12, 5, 2) RMSE=1119885556.112\n",
      "ARIMA(12, 5, 3) RMSE=2877804720.112\n",
      "ARIMA(12, 5, 4) RMSE=2812761700.793\n",
      "ARIMA(12, 5, 5) RMSE=67802612948898283520.000\n",
      "Best ARIMA(12, 2, 2) RMSE=343600004.670\n"
     ]
    }
   ],
   "source": [
    "\n",
    "# evaluate parameters\n",
    "p_values = [10, 12]\n",
    "d_values = range(2, 6)\n",
    "q_values = range(2, 6)\n",
    "warnings.filterwarnings(\"ignore\")\n",
    "evaluate_models(df_exemple[\"sum_counts\"].values, p_values, d_values, q_values)"
   ]
  }
 ],
 "metadata": {
  "kernelspec": {
   "display_name": "Python 3",
   "language": "python",
   "name": "python3"
  },
  "language_info": {
   "codemirror_mode": {
    "name": "ipython",
    "version": 3
   },
   "file_extension": ".py",
   "mimetype": "text/x-python",
   "name": "python",
   "nbconvert_exporter": "python",
   "pygments_lexer": "ipython3",
   "version": "3.9.7 (tags/v3.9.7:1016ef3, Aug 30 2021, 20:19:38) [MSC v.1929 64 bit (AMD64)]"
  },
  "orig_nbformat": 4,
  "vscode": {
   "interpreter": {
    "hash": "d8d4f25c2d3f6bca8aa7bcbfbe4444a224dbae01d9252b76d1cb37ffc52af79f"
   }
  }
 },
 "nbformat": 4,
 "nbformat_minor": 2
}
